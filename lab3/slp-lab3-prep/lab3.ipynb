{
 "cells": [
  {
   "cell_type": "markdown",
   "metadata": {},
   "source": [
    "<h1 align = \"center\">Επεξεργασία Φωνής και Φυσικής Γλώσσας</h1>\n",
    "<h2 align = \"center\">3ο Εργαστήριο (Προπαρασκευή) </h2>\n",
    "<h3 align = \"center\">Sentiment Analysis </h3>\n",
    "<h3 align = \"center\"> Θεoδωρόπουλος Νικήτας -03115185</h3>\n",
    "<h3 align = \"center\"> Καλλιώρα Δωροθέα - 03115176</h3>\n"
   ]
  },
  {
   "cell_type": "code",
   "execution_count": 3,
   "metadata": {},
   "outputs": [
    {
     "name": "stdout",
     "output_type": "stream",
     "text": [
      "loading word embeddings...\n",
      "Loaded word embeddings from cache.\n",
      "\n",
      "Labels for 10 first training examples:\n",
      "\n",
      "Original: ['neutral' 'neutral' 'negative' 'neutral' 'positive' 'negative' 'neutral'\n",
      " 'neutral' 'neutral' 'neutral']\n",
      "\n",
      "After LabelEncoder: [1 1 0 1 2 0 1 1 1 1]\n",
      "\n",
      "Original sample:\n",
      "@SeeMonterey LOST - Sony cell phone with holiday photos. Early Fri morning, Montreal transit plaza or no. 13 bus to airport. REWARD! Plz RT.\n",
      "\n",
      "Transformed sample:\n",
      "(array([ 17528, 400001, 400001,     12, 400001,   2115,   1265,     18,\n",
      "         2333,   2671,      3, 400001, 400001,    767,      2, 400001,\n",
      "         4563,   6751,     47,     85,      3,    677,   1709,      5,\n",
      "          923,      3, 400001,    806, 400001, 400001,      3,      0,\n",
      "            0,      0,      0,      0,      0,      0,      0,      0,\n",
      "            0,      0,      0,      0,      0,      0,      0,      0,\n",
      "            0,      0,      0,      0,      0,      0,      0,      0,\n",
      "            0,      0,      0,      0]), 1, 31)\n",
      "\n",
      "Original sample:\n",
      "@PersonaSoda well yeah, that's third parties. Sony itself isn't putting out actual games for it. It's got 1-2 yrs of 3rd party support left.\n",
      "\n",
      "Transformed sample:\n",
      "(array([ 17528, 400001,    144,   8739,      2,     13,     10,    246,\n",
      "          936,      3, 400001,   1004,     15,     71,   2221,     67,\n",
      "         3571,    291,     11,     21,      3, 400001,     10,    406,\n",
      "         9565,  80747,      4,   4054,    166,    281,    219,      3,\n",
      "            0,      0,      0,      0,      0,      0,      0,      0,\n",
      "            0,      0,      0,      0,      0,      0,      0,      0,\n",
      "            0,      0,      0,      0,      0,      0,      0,      0,\n",
      "            0,      0,      0,      0]), 1, 32)\n",
      "\n",
      "Original sample:\n",
      "Sony rewards app is like a lot of 19 y.o female singers and a non retro sale. 2nd one with no info\n",
      "\n",
      "Transformed sample:\n",
      "(array([400001,  10816,  14673,     15,    118,      8,    531,      4,\n",
      "          905, 400001,   1633,   7793,      6,      8,   1338,  19939,\n",
      "         1564,      3,   2767,     49,     18,     85,  14036,      0,\n",
      "            0,      0,      0,      0,      0,      0,      0,      0,\n",
      "            0,      0,      0,      0,      0,      0,      0,      0,\n",
      "            0,      0,      0,      0,      0,      0,      0,      0,\n",
      "            0,      0,      0,      0,      0,      0,      0,      0,\n",
      "            0,      0,      0,      0]), 0, 23)\n",
      "\n",
      "Original sample:\n",
      "@fakethom Have android tab and don't use phone much, in fact very little. May go the Sony route then:-)\n",
      "\n",
      "Transformed sample:\n",
      "(array([ 17528, 400001, 400001,  17679,  17318,      6,     89,     71,\n",
      "          235,   1265,    182,      2,      7,    854,    192,    334,\n",
      "            3, 400001,    243,      1, 400001,   1315,    128,     46,\n",
      "           12,     25,      0,      0,      0,      0,      0,      0,\n",
      "            0,      0,      0,      0,      0,      0,      0,      0,\n",
      "            0,      0,      0,      0,      0,      0,      0,      0,\n",
      "            0,      0,      0,      0,      0,      0,      0,      0,\n",
      "            0,      0,      0,      0]), 1, 26)\n",
      "\n",
      "Original sample:\n",
      "Finally I get my ps4 back I sent it to Sony cause my HDMI was mess up now I can play MG's Tuesday yeaaaaa buddy\n",
      "\n",
      "Transformed sample:\n",
      "(array([400001, 400001,    170,    193, 281436,    138, 400001,    689,\n",
      "           21,      5, 400001,   1158,    193, 400001,     16,   7563,\n",
      "           61,    115, 400001,     87,    283, 400001,     10, 400001,\n",
      "       400001,   9551,      0,      0,      0,      0,      0,      0,\n",
      "            0,      0,      0,      0,      0,      0,      0,      0,\n",
      "            0,      0,      0,      0,      0,      0,      0,      0,\n",
      "            0,      0,      0,      0,      0,      0,      0,      0,\n",
      "            0,      0,      0,      0]), 2, 26)\n",
      "\n",
      "BaselineDNN(\n",
      "  (embeddings): Embedding(400002, 50)\n",
      "  (lin1): Linear(in_features=50, out_features=100, bias=True)\n",
      "  (relu): ReLU()\n",
      "  (lin2): Linear(in_features=100, out_features=3, bias=True)\n",
      ")\n",
      " [========================================] ...Epoch 1, Loss: 0.7436\n",
      " Epoch 1, Total loss: 0.9542\n",
      "\n",
      " [========================================] ...Epoch 2, Loss: 0.7502\n",
      " Epoch 2, Total loss: 0.9018\n",
      "\n",
      "              precision    recall  f1-score   support\n",
      "\n",
      "           0       0.23      0.65      0.34      1429\n",
      "           1       0.75      0.56      0.64      7920\n",
      "           2       0.53      0.43      0.47      2935\n",
      "\n",
      "    accuracy                           0.54     12284\n",
      "   macro avg       0.50      0.55      0.49     12284\n",
      "weighted avg       0.64      0.54      0.57     12284\n",
      "\n",
      "<Figure size 800x800 with 1 Axes>\n"
     ]
    }
   ],
   "source": [
    "!python main.py"
   ]
  },
  {
   "cell_type": "markdown",
   "metadata": {},
   "source": [
    "<img src=\"./img/Semeval2017A_2_loss.png\" width = \"600\" height = auto;>"
   ]
  }
 ],
 "metadata": {
  "kernelspec": {
   "display_name": "Python 3",
   "language": "python",
   "name": "python3"
  },
  "language_info": {
   "codemirror_mode": {
    "name": "ipython",
    "version": 3
   },
   "file_extension": ".py",
   "mimetype": "text/x-python",
   "name": "python",
   "nbconvert_exporter": "python",
   "pygments_lexer": "ipython3",
   "version": "3.7.5"
  }
 },
 "nbformat": 4,
 "nbformat_minor": 2
}
