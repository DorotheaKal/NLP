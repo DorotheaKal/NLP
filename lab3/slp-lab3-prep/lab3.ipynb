{
 "cells": [
  {
   "cell_type": "markdown",
   "metadata": {},
   "source": [
    "<h1 align = \"center\">Επεξεργασία Φωνής και Φυσικής Γλώσσας</h1>\n",
    "<h2 align = \"center\">3ο Εργαστήριο (Προπαρασκευή) </h2>\n",
    "<h3 align = \"center\">Sentiment Analysis </h3>\n",
    "<h3 align = \"center\"> Θεoδωρόπουλος Νικήτας -03115185</h3>\n",
    "<h3 align = \"center\"> Καλλιώρα Δωροθέα - 03115176</h3>\n"
   ]
  },
  {
   "cell_type": "code",
   "execution_count": 20,
   "metadata": {
    "scrolled": true
   },
   "outputs": [
    {
     "name": "stdout",
     "output_type": "stream",
     "text": [
      "loading word embeddings...\r\n",
      "Failed to load /home/dorotheakal/NLP/lab3/slp-lab3-prep/embeddings/glove.6B.50d.txt\r\n",
      "/home/dorotheakal/NLP/lab3/slp-lab3-prep/embeddings/glove.6B.50d.txt not found!\r\n",
      "Traceback (most recent call last):\r\n",
      "  File \"main.py\", line 49, in <module>\r\n",
      "    word2idx, idx2word, embeddings = load_word_vectors(EMBEDDINGS, EMB_DIM)\r\n",
      "  File \"/home/dorotheakal/NLP/lab3/slp-lab3-prep/utils/load_embeddings.py\", line 102, in load_word_vectors\r\n",
      "    raise OSError(errno.ENOENT, os.strerror(errno.ENOENT), file)\r\n",
      "FileNotFoundError: [Errno 2] No such file or directory: '/home/dorotheakal/NLP/lab3/slp-lab3-prep/embeddings/glove.6B.50d.txt'\r\n"
     ]
    }
   ],
   "source": [
    "!python main.py"
   ]
  },
  {
   "cell_type": "markdown",
   "metadata": {},
   "source": [
    "<img src=\"./img/Semeval2017A_2_loss.png\" width = \"600\" height = auto;>"
   ]
  }
 ],
 "metadata": {
  "kernelspec": {
   "display_name": "Python 3",
   "language": "python",
   "name": "python3"
  },
  "language_info": {
   "codemirror_mode": {
    "name": "ipython",
    "version": 3
   },
   "file_extension": ".py",
   "mimetype": "text/x-python",
   "name": "python",
   "nbconvert_exporter": "python",
   "pygments_lexer": "ipython3",
   "version": "3.6.9"
  }
 },
 "nbformat": 4,
 "nbformat_minor": 2
}
