{
 "cells": [
  {
   "cell_type": "markdown",
   "metadata": {},
   "source": [
    "<h1 align = \"center\">Επεξεργασία Φωνής και Φυσικής Γλώσσας</h1> \n",
    "<h2 align = \"center\">1η Εργασία</h2> \n",
    "<h3 align = \"center\"> Θεoδωρόπουλος Νικήτας -03115185</h3>\n",
    "<h3 align = \"center\"> Καλλιώρα Δωροθέα - 03115176</h3>\n",
    "\n",
    "\n"
   ]
  },
  {
   "cell_type": "markdown",
   "metadata": {},
   "source": [
    "### Σκοπός \n",
    "\n",
    "Στόχος της εργαστηριακής άσκησης είναι η δημιουργία ενός απλού ορθογράφου με χρήση μηχανών πεπερασμένων καταστάσεων (**fst**) με τη βοήθεια της βιβλιοθήκης openfst (v1.6.1). Για την εκπαίδευση του μοντέλου χρησιμοποιούμε corpus απο δημόσια διαθέσιμα βιβλία απο τα οποία με κατάλληλο tokenization γίνεται εξαγωγή λέξεων και σχηματισμός λεξικού. Για κάθε λέξη προς διόρθωση υπολογίζουμε την απόσταση Levenshtein πάνω στο λεξικό, η λέξη με την ελάχιστη απόσταση είναι η πρόβλεψη του μοντέλο μας.\n",
    "\n",
    "Τέλος θα γίνει εισαγωγή σε αναπαραστάσεις **word2vec**. Ενα σύνολο μοντέλων που χρησιμοποιούνται για παραγωγή αναπαραστάσεων λέξεων (embeddigns) σε έναν d-διάσταστο διανυσματικό χώρο $\\mathbb{R}^d$, έτσι ώστε λέξεις με κοντινή σημασία να βρίσκονται κοντά και στον διανυσματικό χώρο. Η βασική υπόθεση είναι ότι λέξεις με κοινή κατανομή στο κείμενο θα έχουν και κοινή σημασία. "
   ]
  },
  {
   "cell_type": "markdown",
   "metadata": {},
   "source": [
    "### Βήμα 1\n",
    "\n",
    "Κατασκευάζουμε το corpus με σύμπτηξη plain text βιβλίων, δημόσια διαθέσιμα στο Project Gutenberg. Θα χρησιμοποιήσουμε corpus των τριών παρακάτω βιβλίων:  \n",
    "<br>\n",
    "<div class=\"image123\">\n",
    "    <div class=\"imgContainer\"  Style = \"float:left\">\n",
    "        <p>The War of the Worlds by H. G. Wells</p>\n",
    "        <img src=\"./img/book36.jpg\" height=auto width=\"250\"/>\n",
    "    </div>\n",
    "    <div class=\"imgContainer\" Style = \"float:right\">\n",
    "        <p>Grimms' Fairy Tales by Jacob Grimm and Wilhelm Grimm</p>\n",
    "        <img class=\"middle-img\" src=\"./img/book2591.jpg\"/ height=auto width=\"250\"/>\n",
    "    </div>\n",
    "    <div class=\"imgContainer\" Style = \"float:middle\">\n",
    "        <p>&nbsp;&nbsp;&nbsp;&nbsp;&nbsp;&nbsp;&nbsp;&nbsp;&nbsp;&nbsp;&nbsp;&nbsp;&nbsp; \n",
    "            Pride and Prejudice by Jane Austen </p>\n",
    "        <img src=\"./img/book1342.jpg\"/ height=auto width=\"250\" align=\"center\"/>\n",
    "    </div>\n",
    "</div>\n"
   ]
  },
  {
   "cell_type": "markdown",
   "metadata": {},
   "source": [
    "(β) Κατα την κατασκευή γλωσσικών μοντέλων ειναι κοινή πρακτική η σύμπτηξη πολλών βιβλίων για την δημιουργία ενός ενιαίου corpus προς επεξεργασία. Προφανώς για οποιοδήποτε μοντέλο η αύξηση των δεδομένων εκπαίδευσης οδηγεί σε μεγαλύτερη ικανοτητα γενίκευσης. \n",
    "\n",
    "* Για το μοντέλο μας η επιλογή μιας μόνο πηγής δεδομένων εισάγει μεγάλη προκατάληψη (bias) καθώς περιοριζόμαστε στο λεξιλόγιο ενός μόνο συγγραφέα μιας συγκεκριμένης εποχής ή και του context του βιβλίου (όπως η κοινωνική τάξη των χαρακτήρων αν είναι αφηγηματικό). Για να μπορεί να διορθώσει σωστά μια λέξη το μοντέλο μας θα πρέπει πρώτα να την γνωρίζει, συνεπώς η ποικιλία στο λεξιλιλόγιο είναι ενας καθοριστικός παράγωντας για την επιτυχία του μοντέλου. \n",
    "\n",
    "* Σε αναπαραστάσεις που βασίζονται στα συμφραζόμενα, όπως το word2vec, απαιτείται μεγάλο πλήθος δεδομένων έτσι ώστε να προσδιοριστεί σωστά η σημασία μιας λέξης. Αυτο συμβαίνει γιατί πρέπει να αναλυθεί η χρήση της και να αναγνωριστεί η θέση της σε διαφορετικά γλωσσικά περιβάλλοντα και ισχύει ακόμα και για σταθερό λεξιλόγιο. \n"
   ]
  },
  {
   "cell_type": "code",
   "execution_count": 2,
   "metadata": {},
   "outputs": [],
   "source": [
    "# Get data for step 1\n",
    "\n",
    "#!wget -P ./data/ http://www.gutenberg.org/files/36/36-0.txt\n",
    "#!wget -P ./data/ http://www.gutenberg.org/files/2591/2591-0.txt\n",
    "#!wget -P ./data/ http://www.gutenberg.org/files/1342/1342-0.txt\n"
   ]
  },
  {
   "cell_type": "markdown",
   "metadata": {},
   "source": [
    "### Βήμα 2 \n",
    "\n",
    "Για την προεπεξεργασία του αρχέιου εισόδου υλοποιούμε κατάλληλο tokenizer ο οποίος αγνοεί τα σημεία στίξης, τους αριθμούς και οποιουσδήποτε άλλους μη λεκτικούς χαρακτήρες. Διαβάζουμε το αρχείο γραμμή προς γραμμή εφαρμόζοντας την συνάρτηση και προκύπτει μια λίστα απο lowercase λέξεις."
   ]
  },
  {
   "cell_type": "code",
   "execution_count": 4,
   "metadata": {
    "colab": {},
    "colab_type": "code",
    "id": "8OqT0WsSYSLb"
   },
   "outputs": [],
   "source": [
    "# Step 2\n",
    "\n",
    "def identity_preprocess(str):\n",
    "  return str\n",
    "\n",
    "def readfile(path,preprocess=identity_preprocess):\n",
    "  processed_txt=[]\n",
    "  f = open(path, \"r\")\n",
    "  for line in f:\n",
    "    processed_txt = processed_txt + preprocess(line)\n",
    "  return processed_txt \n",
    "\n",
    "def tokenize(s):\n",
    "    s = s.strip().lower()\n",
    "    s = ''.join(c if c.isalpha() else ' ' for c in s)\n",
    "    # We replace all non-alpha characters with ' '\n",
    "    s = s.replace('\\n',' ')\n",
    "    s = s.split()\n",
    "    return s\n",
    "\n"
   ]
  },
  {
   "cell_type": "markdown",
   "metadata": {},
   "source": [
    "(δ)\n",
    "Ο tokenizer που υλοποιούμε ειναι πολυ απλός και αναγνωρίζει ως tokens μόνο τις απλές λέξεις. Επίσης δεν έχουμε λάβει υπόψην μας ιδιαίτερα γραμματικά φαινόμενα όπως ή σύντμηση ( \"did not $\\rightarrow$ didn't\"). Στην βιλιοθήκη nltk υπάρχουν αρκετά πιο ακριβείς και εκλεπτυσμένοι tokenizers. Παρασουσιάζουμε ενδεικτικά παρακάτω τα αποτέλσματα για την πρόταση:\n",
    "\n",
    "_\"At eight o'clock on Thursday morning....Arthur didn't feel very good. He quickly rushed to the Doctor!\"_"
   ]
  },
  {
   "cell_type": "code",
   "execution_count": 5,
   "metadata": {
    "scrolled": true
   },
   "outputs": [
    {
     "name": "stdout",
     "output_type": "stream",
     "text": [
      "custom :\n",
      " ['at', 'eight', 'o', 'clock', 'on', 'thursday', 'morning', 'arthur', 'didn', 't', 'feel', 'very', 'good', 'he', 'quickly', 'rushed', 'to', 'the', 'doctor'] \n",
      "\n",
      "nltk punkt :\n",
      " ['At', 'eight', \"o'clock\", 'on', 'Thursday', 'morning', '...', '.Arthur', 'did', \"n't\", 'feel', 'very', 'good', '.', 'He', 'quickly', 'rushed', 'to', 'the', 'Doctor', '!'] \n",
      "\n",
      "sentece detector :\n",
      " [\"At eight o'clock on Thursday morning....Arthur didn't feel very good.\", 'He quickly rushed to the Doctor!'] \n",
      "\n"
     ]
    }
   ],
   "source": [
    "#Step 2 (d)\n",
    "import nltk\n",
    "#nltk.download('punkt')\n",
    "\n",
    "sentence = \"\"\"At eight o'clock on Thursday morning....Arthur didn't feel very good.\n",
    "              He quickly rushed to the Doctor!\"\"\"\n",
    "\n",
    "sent_detector = nltk.data.load('tokenizers/punkt/english.pickle')\n",
    "tokenizers = [tokenize,nltk.word_tokenize,sent_detector.tokenize]\n",
    "names = [\"custom\",\"nltk punkt\",\"sentece detector\"]\n",
    "for tokenizer,name in zip(tokenizers,names):\n",
    "    print(name,\":\\n\",tokenizer(sentence),'\\n')\n"
   ]
  },
  {
   "cell_type": "markdown",
   "metadata": {},
   "source": [
    "Περιληπτικά αναλύουμε τους tokenizers.\n",
    "\n",
    "<b>Sentence Tokenizer</b>: Αυτός ο tokenizer χωρίζει το κείμενο σε μία λίστα από προτάσεις χρησιμοποιώντας unsupervised learning για να αναγνωρίσει επιτυχώς τα διαχωριστηκά σημεία στίξης, και να αγνοείσει όπως η απόστροφος σε μία λέξη.  Ο αλγόριθμος αυτός πρέπει να εκπαιδευτεί σε ένα μεγάλο σύνολο δεδομένων πριν μπορέσει να χρησιμοποιηθεί αποτελεσματικά. Το NLTK data package περιλαμβάνει ένα προ-εκπαιδευμένο Punkt tokenizer για την αγγλική γλώσσα.\n",
    "\n",
    "<b>Word Τokenizer</b>: Αυτός ο tokenizer εντοπίζει τις λέξεις σε ένα string και τις αποθηκεύει σε μία λίστα. Από τα σημεία στίξης κρατάει μόνο εκείνα που διαχωρίζουν προτάσεις. Όπως και ο Sentence Tokenizer χρησιμοποιεί ένα προ-εκπαιδευμένο Punkt tokenizer για την αγγλική γλώσσα. \n",
    "\n",
    "Η δικία μας απλή εκδοχή του tokenizer είναι αρκετά αποτελεσματική και υστερεί μόνο όταν σημεία στίξης αποτελούν μέρος της λέξης.  \n",
    "\n",
    "Η βιβλιοθήκη nltk διαθέτει αρκετά εξεζητημένους tokenizers, ενδεικτικά αναφέρουμε τον tweet tokenizer που διατηρεί τα σημεία στίξης και τα emoji ενω αναγνωρίζει και τα hashtags. Ολα αυτά διαθέτουν μεγάλη πληροφορία, χρήσιμη για εφαρμογές ανάλυσης tweet."
   ]
  },
  {
   "cell_type": "markdown",
   "metadata": {},
   "source": [
    "### Βήμα 3\n",
    "Με βάση τα tokens που προκύπτουν απο την προηγούμενη ανάλυηση βρίσκουμε τά μοναδικά tokens (λεξιλόγιο) και τους μοναδικούς χαρακτήρες (αλφάβητο) στο corpus."
   ]
  },
  {
   "cell_type": "code",
   "execution_count": 6,
   "metadata": {
    "colab": {
     "base_uri": "https://localhost:8080/",
     "height": 72
    },
    "colab_type": "code",
    "executionInfo": {
     "elapsed": 1819,
     "status": "ok",
     "timestamp": 1574168112504,
     "user": {
      "displayName": "Dorothea Kalliora",
      "photoUrl": "",
      "userId": "17412342597228224634"
     },
     "user_tz": -120
    },
    "id": "YXntX-DgfvSF",
    "outputId": "19b454d9-ca2c-4be2-cb8c-bfe654403163",
    "scrolled": false
   },
   "outputs": [
    {
     "name": "stdout",
     "output_type": "stream",
     "text": [
      "295373 words overall\n",
      "12128 unique words in corpus\n",
      "31 symbols in alphabet:\n",
      "['a', 'g', 'w', 'q', 'à', 'm', 'i', 'ç', 'x', 'h', 'n', 'z', 'l', 'f', 'é', 'u', 'o', 'j', 't', 'e', 'b', 's', 'p', 'k', 'æ', 'y', 'c', 'ê', 'r', 'd', 'v']\n"
     ]
    }
   ],
   "source": [
    "# Step 3\n",
    "\n",
    "\n",
    "text_1 = readfile('./data/36-0.txt',tokenize)\n",
    "text_2 = readfile('./data/2591-0.txt',tokenize)\n",
    "text_3 = readfile('./data/1342-0.txt',tokenize)\n",
    "\n",
    "text = text_1 + text_2 + text_3\n",
    "\n",
    "print(len(text),\"words overall\")\n",
    "word_corpus = list(set(text))\n",
    "print(len(word_corpus),\"unique words in corpus\")\n",
    "\n",
    "# Convert list of words to list of chars, get unique chars with set\n",
    "alphabet = list(set([c for word in word_corpus for c in word]))\n",
    "print(len(alphabet),\"symbols in alphabet:\")\n",
    "print(alphabet)\n",
    "\n"
   ]
  },
  {
   "cell_type": "markdown",
   "metadata": {},
   "source": [
    "Παρατηρούμε οτι το αλφάβητο είναι επαυξημένο με παραλλαγές γραμμάτων και έχει μέγεθος 31."
   ]
  },
  {
   "cell_type": "markdown",
   "metadata": {},
   "source": [
    "### Βήμα 4\n",
    "\n",
    "Δημιουργούμε τον πίνακα συμβόλων με βάση το αλφάβητο που υπολογίσαμε στο προηγούμενο βήμα. Το $\\epsilon$ αντιστοιχίζεται στο $0$, για τις υπολοιπες αντιστοιχίες ξεκινάμε απο εναν αυθαίρετο αριθμό. "
   ]
  },
  {
   "cell_type": "code",
   "execution_count": 6,
   "metadata": {},
   "outputs": [],
   "source": [
    "# Step 4\n",
    "\n",
    "def create_syms(alphabet):\n",
    "    f = open(\"./chars.syms\",\"w+\")\n",
    "    f.write(f'<epsilon>     0\\n')  #for <epsilon> index 0\n",
    "    for i in range(len(alphabet)):\n",
    "        f.write(f'{alphabet[i]}     {i+50}\\n')  #for other characters index i+50\n",
    "        \n",
    "create_syms(alphabet)\n",
    "    "
   ]
  },
  {
   "cell_type": "markdown",
   "metadata": {},
   "source": [
    "### Βήμα 5 \n",
    "Για την δημιουργία ενός ορθογράφου απαιτείται κατάλληλη μετρική για την απόσταση δύο λέξεων. \n",
    "\n",
    "θα χρησιμοποιήσουμε την απόσταση Levenshtein (ή edit distance). Η απόσταση μπορέι να υπολογιστεί αναδρομικά με χρήση dynamic programming (DP). Ανάμεσα σε δύο λέξεις μπορούν να γίνουν τρείς τύποι μετατροπών: εισαγωγή ενός χαρακτήρα ($ \\epsilon \\rightarrow a$), μετατροπή ενός χαρακτήρα σε έναν άλλο ($ a \\rightarrow b$) και διαγραφή ενός χαρακτήρα ($a \\rightarrow \\epsilon$). Θεωρούμε αρχικά ίδιο κόστος για όλες τις μετατροπές.\n",
    "\n",
    "(α) Δημιουργούμε κατάλληλο fst με μία κατάσταση, αντιστοιχίζοντας κάθε χαρακτήρα σε κάθε άλλον και στο $\\epsilon$, και το $\\epsilon$ σε κάθε χαρακτήρα με βάρος 1. Αντιστοιχίζουμε ακόμα τον χαρακτήρα στον εαυτό του με βάρος 0. Αν πάρουμε το shortest path τότε η έξοδος θα είναι ή ίδια η λέξη εισόδου, αφού το ελάχιστο βάρος προκύπτει αν δεν γίνει καμία μετατροπή. \n",
    "\n",
    "(β) Στην υλοποίηση που έγινε για το ερώτημα 5 έχουμε υποθέσει ότι όλα τα edits έχουν ίσο βάρος. Αυτό ουσιαστικά σημαίνει ότι για το μοντέλο μας οποιοδήποτε λάθος σε μία λέξη έχει την ίδια πιθανότητα εμφάνισης. Με βάση την διαίσθηση μας μια τέτοια θεώρηση δεν ανταποκρίνεται στα πραγματικά λάθη που συναντάμε σε κείμενα και προκύπτουν απο τον άνθρωπο. Για παράδειγμα μια λέξη που ξεκινά απο $b$ είναι σχεδόν αδύνατον να γραφεί λανθασμένα με $c$. Ιδανικά θα θέλαμε να γνωρίζουμε την κατανομή του λάθους για κάθε σύμβολο στο αλφάβητο η οποία εδώ έχουμε υποθέσει οτι ειναι ομοιόμορφη. \n",
    "\n",
    "Για να γίνει πειραματικός υπολογισμός θα θέλαμε ενα σύνολο δεδομένων train data της μορφής: $(original~word, wrong~spelling)$. Απο αυτό μπορούμε να υπολογίσουμε κάθε φορά την διόρθωση που απαιτείται. Η πιθανότητα θα προκύψει:\n",
    "\n",
    "$$ Pr[ a\\rightarrow b] = \\frac{|error = b \\rightarrow a|}{|train~samples|}, \\forall a,b \\in \\{A+\\epsilon\\} $$, όπου $A$ το αλφάβητο. \n",
    "\n",
    "Αυτές εινα οι a priori πιθανότητες για κάθε διόρθωση με βάση το training data. Μπορούν τώρα να χρησιμοποιηθούν για να υπολογιστούν τα βάρη στο μοντέλο αναγνώρισης μας με fst. Το βάρος για μια συγκεκριμένη διόρθωση Θα πρέπει να είναι αντιστρόφως ανάλογο της πιθανότητας εμφανίσης του αντίστοιχου λάθους. Η καθιερωμένη συνάρτηση αντιστοίχισης είναι η $ -log(p(X)) $ όπου $p(X)$ η συνάρτηση κατανομής πιθανοτήτων.\n",
    "\n"
   ]
  },
  {
   "cell_type": "code",
   "execution_count": 7,
   "metadata": {},
   "outputs": [],
   "source": [
    "#Step 5\n",
    "\n",
    "# create a line corresponding to fst edge.\n",
    "def format_arc(src,dst,src_sym,dst_sym,w,f):\n",
    "    f.write(\"{} {} {} {} {} \\n\".format(src,dst,src_sym,dst_sym,w))\n",
    "\n",
    "\n",
    "def create_lev(file,alphabet,w1):\n",
    "    f = open(file,\"w+\")\n",
    "    for i in range(0, len(alphabet)):\n",
    "        format_arc(src=0, dst=0, src_sym=\"<epsilon>\", dst_sym=alphabet[i], w = w1,f=f)\n",
    "        format_arc(src=0, dst=0, src_sym=alphabet[i], dst_sym=alphabet[i], w=0,f=f)\n",
    "        format_arc(src=0, dst=0, src_sym=alphabet[i], dst_sym=\"<epsilon>\", w = w1,f=f)\n",
    "        for j in range(0, len(alphabet)):\n",
    "            if(j!=i):\n",
    "                format_arc(src=0, dst=0, src_sym=alphabet[i], dst_sym=alphabet[j], w = w1,f=f)   \n",
    "    f.write('0\\n')\n",
    "    f.close()\n",
    "\n",
    "create_lev('lev.fst',alphabet,1)    "
   ]
  },
  {
   "cell_type": "code",
   "execution_count": 8,
   "metadata": {},
   "outputs": [],
   "source": [
    "!fstcompile --isymbols=chars.syms --osymbols=chars.syms  lev.fst lev.bin.fst"
   ]
  },
  {
   "cell_type": "markdown",
   "metadata": {},
   "source": [
    "### Βήμα 6 \n",
    "\n",
    "Ένας <b>αποδοχέας (acceptor)</b> είναι ένα fst όπου κάθε μετάβαση έχει ενα label (και προεραιτικά βάρος). Στην βιβλιοθήκη openfst1-6-1 μπορέι να θεωρηθεί ως μετατροπέας(transducer) με ίδιο input και output label. \n",
    "\n",
    "Σε αυτό το ερώτημα κατασκευάζουμε εναν αποδοχέα που αποδέχεται κάθε λέξη του λεξικού. Ο αποδοχέας έχει μία κοινή αρχική κατάσταση και απο εκεί κάθε λέξη επεκτείνεται σε καταστάσεις ανεξάρτητα απο τις άλλες. Δεν έχουμε βάρος στις μεταβάσεις (w = 0)."
   ]
  },
  {
   "cell_type": "code",
   "execution_count": 9,
   "metadata": {},
   "outputs": [],
   "source": [
    "#Step 6\n",
    "\n",
    "def create_acceptor(word_corpus,file,weights = {},model = 'Default'):\n",
    "    \n",
    "    ''' Create a suitable acceptor\n",
    "        word_corpus = dictionary of unique words\n",
    "        file = destination file\n",
    "        weights = dictionary with weights per word/letter/bigram respectively.\n",
    "                  In the case of bigrams it is a tuple.\n",
    "        model = language model type, one of: {Default,Word,Unigram,Bigram}\n",
    "    '''\n",
    "    \n",
    "    f = open(file,\"w+\")\n",
    "    s = 0\n",
    "    final_states = []\n",
    "    for word in word_corpus:\n",
    "        \n",
    "        if model == 'Default':\n",
    "            w1 = 0\n",
    "            w2 = 0\n",
    "        elif model == 'Word':\n",
    "            w1 = weights[word]\n",
    "            w2 = 0\n",
    "        elif model == 'Unigram':\n",
    "            w1 = 0\n",
    "        elif model == 'Bigram':\n",
    "            w1 = 0\n",
    "            prev_letter = ' '\n",
    "            \n",
    "        format_arc(0,s+1,\"<epsilon>\",\"<epsilon>\",w1,f)\n",
    "        s += 1\n",
    "        \n",
    "        for letter in word[0:]:\n",
    "            \n",
    "            if model == 'Unigram':\n",
    "                w2 = weights[letter]\n",
    "            \n",
    "            if model == 'Bigram':\n",
    "                w2 = weights[(prev_letter,letter)]\n",
    "            format_arc(s,s+1,letter, letter,w2,f)\n",
    "            s += 1\n",
    "            prev_letter = letter \n",
    "        final_states.append(s)\n",
    "\n",
    "    for state in final_states:\n",
    "        f.write(f'{state}\\n')\n",
    "    f.close()\n",
    "\n",
    "create_acceptor(word_corpus,\"acceptor.fst\")\n"
   ]
  },
  {
   "cell_type": "code",
   "execution_count": 10,
   "metadata": {},
   "outputs": [],
   "source": [
    "!fstcompile --isymbols=chars.syms --osymbols=chars.syms  acceptor.fst acceptor.bin.fst"
   ]
  },
  {
   "cell_type": "markdown",
   "metadata": {},
   "source": [
    "(β) Καλούμε παρακάτω τις συναρτήσεις $fstrmepsilon, fstdeterminze, fstminimize$ που βελτιώνουν το μοντέλο μας. Επεξηγούμε συνοπτικά την λειτουργία τους:\n",
    "\n",
    "**fstdetermize**: Δέχεται ως είσοδο έναν μετροπέα (transducer) και το αποτέλεσμα είναι ένα ισοδύναμο fst με την ιδιότητα ότι δεν υπάρχει κατάσταση όπου δύο μεταβάσεις έχουν το ίδιο σύμβολο εισόδου. Το αυτόματο γίνεται δηλαδή ντετερμινιστικό ως προς την είσοδο. Η συνάρτηση έχει το μειονέκτημα οτι χρησιμοποιεί το $\\epsilon$ σεμεταβάσεις, θεωρώντας το στοιχείου του αλφαβήτου. Ακόμα αν το αρχικό αυτόματο περιέχει $\\epsilon$-μεταβάσεις μπορεί το αποτέλεσμα να μην είναι ντετερμινιστικό. \n",
    "\n",
    "**fstrmepsilon**: Αφαιρεί απο ένα αυτόματο όλες τις $\\epsilon$-μεταβάσεις (όταν δηλαδή input = output = $\\epsilon$). \n",
    "\n",
    "**fstminimize**: Για εναν acceptor η συνάρτηση παράγει το ελάχιστο ισοδύναμο αυτόματο. Για εναν transducer η ελαχιστότητα δεν μπορεί να επιτευχθεί με την αυστηρή έννοια διότι κάτι τέτοιο θα απαιτούσε output labels με την μορφή συμβολοσειρών που δεν υποστηρίζεται απο την fst. Κάθε τέτοια μετάβαση ειναι ανταυτού μια ακολουθία απο μεταβάσεις με έξοδο χαρακτήρα. \n"
   ]
  },
  {
   "cell_type": "code",
   "execution_count": 11,
   "metadata": {},
   "outputs": [],
   "source": [
    "#Step 6b\n",
    "\n",
    "!fstdeterminize acceptor.bin.fst acceptor.bin.fst\n",
    "!fstrmepsilon acceptor.bin.fst acceptor.bin.fst\n",
    "!fstminimize acceptor.bin.fst acceptor.bin.fst\n"
   ]
  },
  {
   "cell_type": "markdown",
   "metadata": {},
   "source": [
    "### Βήμα 7\n",
    "\n",
    "Για να υλοποιήσουμε τον ορθογράφο ελάχιστης απόστασης (min edit distance spell checker) θα συνθέσουμε τον Levenshtein transducer με τον αποδοχέα του λεξικού που υλοποιήσαμε σε προηγούμενο ερώτημα. Το αποτέλεσμα είναι ένας transducer που διορθώνει τις λέξεις μόνο με κριτήριο τις ελάχιστες δυνατές μετατροπές που απαιτούνται, χωρίς να λαμβάνει υπόψη του καμία γλωσσική πληροφορία. \n",
    "\n",
    "α) \n",
    "\n",
    "* Για ίσα βάρη στα edits όπως αναλύσαμε και σε προηγούμενα ερωτήματα, όλες οι μετατροπές μεταξύ γραμμάτων έχουν ίση πιθανοτηα και αρα οι αντίστοιχες ακμές ίσο βάρος στο fst. Δεν υπάρχει συνεπώς κάποιο bias προς μια συγκεκριμένη κατέυθυνση και η επιλογή γίνεται καθαρά με την ελάχιστη edit distance. Αυτο μπορεί να οδηγήσει σε λάθη παρόλο που η λέξη προς διόρθωση μπορεί να είναι γνωστή. \n",
    "\n",
    "\n",
    "*  Για διαφορετικά βάρη των edits το fst είναι προδιαθετιμένο κάθε φορά να ακολουθήσει ένα συγκεκριμένο μονοπάτι μεταβάσεων. Αυτη η προδιάθεση μειώνει την τυχαιότητα στην εκτέλεση του μοντέλου, καθώς πολυ συχνά η λέξη με την ελάχιστη απόσταση θα είναι μοναδική. Η εισαγωγή bias με προσεκτική επιλογή των βαρών μπορεί να οδηγήσει σε καλύτερα αποτελέσματα. \n"
   ]
  },
  {
   "cell_type": "code",
   "execution_count": 12,
   "metadata": {},
   "outputs": [],
   "source": [
    "#Step 7\n",
    "\n",
    "#Step 7(a)\n",
    "!fstarcsort --sort_type=olabel lev.bin.fst lev.bin.fst\n",
    "!fstarcsort --sort_type=ilabel acceptor.bin.fst acceptor.bin.fst\n",
    "!fstcompose  lev.bin.fst acceptor.bin.fst spell_checker.bin.fst"
   ]
  },
  {
   "cell_type": "code",
   "execution_count": 13,
   "metadata": {
    "scrolled": true
   },
   "outputs": [
    {
     "name": "stdout",
     "output_type": "stream",
     "text": [
      "Min distance prediction for ['cit'] is: \n",
      "fit"
     ]
    }
   ],
   "source": [
    "#Step 7b\n",
    "word = ['cit']\n",
    "create_acceptor(word,\"in.fst\")\n",
    "\n",
    "!fstcompile  --isymbols=chars.syms --osymbols=chars.syms   in.fst in.bin.fst\n",
    "!fstarcsort --sort_type=ilabel spell_checker.bin.fst spell_checker.bin.fst \n",
    "!fstarcsort --sort_type=olabel in.bin.fst in.bin.fst \n",
    "print(f\"Min distance prediction for {word} is: \")\n",
    "!fstcompose in.bin.fst spell_checker.bin.fst |fstshortestpath --nshortest=1 \\\n",
    "| fstrmepsilon |  fsttopsort |fstprint -isymbols=chars.syms  -osymbols=chars.syms\\\n",
    "| cut -f4 | grep -v \"<epsilon>\" |head -n -1 | tr -d '\\n'"
   ]
  },
  {
   "cell_type": "code",
   "execution_count": 14,
   "metadata": {
    "scrolled": true
   },
   "outputs": [],
   "source": [
    "!fstcompose in.bin.fst spell_checker.bin.fst |fstshortestpath --nshortest=10   \\\n",
    "| fstrmepsilon |  fsttopsort \\\n",
    "| fstdraw --isymbols=chars.syms --osymbols=chars.syms -portrait  | dot -Tjpg > ./img/min_cit.jpg\n"
   ]
  },
  {
   "cell_type": "markdown",
   "metadata": {},
   "source": [
    "(β) \n",
    "Παρουσιάζουμε σε μορφή διαγράμματος 10 πιθανές έλάχιστες προβλέψεις για την λέξη _\"cit\"_. Παρατηρούμε ότι λόγω των ίσων βαρών υπάρχουν πολλές διαφορετικές προβλέψεις ελάχιστης απόστασης. Συνεπώς κατω απο αυτές τις συνθήκες είναι αδύνατον το μοντέλο μας να εκτελεί με συνέπεια καλές προβλέψεις. \n",
    "\n",
    "Οι πιθανές προβλέψεις προκύπτουν: \n",
    "|\n",
    "$$\\{ hit, cut, cat, city, bit, lit, sit, pit, wit\\}$$ \n",
    "![predictions-cit](./img/min_cit.jpg)"
   ]
  },
  {
   "cell_type": "markdown",
   "metadata": {},
   "source": [
    "### Βήμα 8 \n",
    "\n",
    "Θα αξιολογήσουμε την επίδοση του ορθογράφου μας πάνω σε ένα σύνολο δεδομένων για evaluation. Η εκτίμηση μας είναι η λέξη του λεξικού με την ελάχιστη απόσταση απο την λέξη προς διόρθωση. Όπως αναφέραμε η λέξη αυτή δεν είναι μοναδική, και αρα το αποτέλεσμα εμπεριέχει τυχαιότητα. "
   ]
  },
  {
   "cell_type": "code",
   "execution_count": 15,
   "metadata": {},
   "outputs": [],
   "source": [
    "#!wget https://raw.githubusercontent.com/georgepar/python-lab/master/spell_checker_test_set -P ./data/"
   ]
  },
  {
   "cell_type": "code",
   "execution_count": 10,
   "metadata": {
    "scrolled": true
   },
   "outputs": [],
   "source": [
    "# Step 8:\n",
    "import random\n",
    "random.seed()\n",
    "\n",
    "file = open('./data/spell_checker_test_set',\"r\")\n",
    "y_test = []\n",
    "X_test = []\n",
    "for line in file:\n",
    "    [y,X] = line.split(':')\n",
    "    X = X.split()\n",
    "    for word in X:\n",
    "        X_test.append(word)\n",
    "        y_test.append(y)\n",
    "# Get 20 random words from test set, along with their labels\n",
    "idxs = random.sample(range(0, len(y_test)), 20)\n",
    "X_rand = [X_test[i] for i in idxs]\n",
    "Y_rand = [y_test[i] for i in idxs]"
   ]
  },
  {
   "cell_type": "code",
   "execution_count": 17,
   "metadata": {},
   "outputs": [],
   "source": [
    "import os\n",
    "def predict(Y,X,spell_checker,Show = True):\n",
    "    correct_pred=0\n",
    "    for y,x in zip(Y,X):\n",
    "        create_acceptor([x],\"input.fst\")\n",
    "        !fstcompile  --isymbols=chars.syms --osymbols=chars.syms input.fst input.bin.fst\n",
    "        !fstarcsort --sort_type=olabel input.bin.fst input.bin.fst \n",
    "        command = f'''fstcompose input.bin.fst {spell_checker} |fstshortestpath --nshortest=1 \\\n",
    "        | fstrmepsilon |  fsttopsort |fstprint -isymbols=chars.syms  -osymbols=chars.syms\\\n",
    "        | cut -f4 | grep -v \"<epsilon>\" |head -n -1 | tr -d '\\n' \n",
    "        '''\n",
    "        prediction = os.popen(command).read()\n",
    "        if Show:\n",
    "            print(\"Input:\",x,\"\\n  --Correct:   \",y,\"\\n  --Prediction:\",prediction,\"\\n\")\n",
    "        if y == prediction:\n",
    "            correct_pred+=1\n",
    "    print(f\"{spell_checker}-accuracy:{correct_pred/len(Y)}%\")\n"
   ]
  },
  {
   "cell_type": "code",
   "execution_count": 18,
   "metadata": {
    "collapsed": true
   },
   "outputs": [
    {
     "name": "stdout",
     "output_type": "stream",
     "text": [
      "Input: bycicle \n",
      "  --Correct:    bicycle \n",
      "  --Prediction: bicycle \n",
      "\n",
      "Input: unfortunatly \n",
      "  --Correct:    unfortunately \n",
      "  --Prediction: unfortunately \n",
      "\n",
      "Input: courtens \n",
      "  --Correct:    curtains \n",
      "  --Prediction: courteous \n",
      "\n",
      "Input: laught \n",
      "  --Correct:    laugh \n",
      "  --Prediction: laugh \n",
      "\n",
      "Input: remine \n",
      "  --Correct:    remind \n",
      "  --Prediction: remind \n",
      "\n",
      "Input: possition \n",
      "  --Correct:    position \n",
      "  --Prediction: position \n",
      "\n",
      "Input: viseted \n",
      "  --Correct:    visited \n",
      "  --Prediction: visited \n",
      "\n",
      "Input: contende \n",
      "  --Correct:    contented \n",
      "  --Prediction: content \n",
      "\n",
      "Input: opposit \n",
      "  --Correct:    opposite \n",
      "  --Prediction: opposite \n",
      "\n",
      "Input: choise \n",
      "  --Correct:    choice \n",
      "  --Prediction: chose \n",
      "\n",
      "Input: wonted \n",
      "  --Correct:    wanted \n",
      "  --Prediction: wanted \n",
      "\n",
      "Input: magnifecent \n",
      "  --Correct:    magnificent \n",
      "  --Prediction: magnificent \n",
      "\n",
      "Input: varable \n",
      "  --Correct:    variable \n",
      "  --Prediction: marble \n",
      "\n",
      "Input: lugh \n",
      "  --Correct:    laugh \n",
      "  --Prediction: laugh \n",
      "\n",
      "Input: concider \n",
      "  --Correct:    consider \n",
      "  --Prediction: consider \n",
      "\n",
      "Input: perhapse \n",
      "  --Correct:    perhaps \n",
      "  --Prediction: perhaps \n",
      "\n",
      "Input: initails \n",
      "  --Correct:    initials \n",
      "  --Prediction: entail \n",
      "\n",
      "Input: seperate \n",
      "  --Correct:    separate \n",
      "  --Prediction: separate \n",
      "\n",
      "Input: diagrammaticaally \n",
      "  --Correct:    diagrammatically \n",
      "  --Prediction: practically \n",
      "\n",
      "Input: leval \n",
      "  --Correct:    level \n",
      "  --Prediction: level \n",
      "\n",
      "spell_checker.bin.fst-accuracy:0.7%\n"
     ]
    }
   ],
   "source": [
    "predict(Y_rand,X_rand,\"spell_checker.bin.fst\")"
   ]
  },
  {
   "cell_type": "markdown",
   "metadata": {},
   "source": [
    "Διορθώνουμε 20 τυχαίες λέξεις στο test set και μετράμε το accuracy.\n",
    "\n",
    "Για διαφορετικές επαναλήψεις παρατηρήσαμε οτι η ακρίβεια προκύπτει απο 0.4% εώς 0.7%. Για λέξεις με μεγάλο μήκος που απέχουν πολύ απο άλλες λέξεις στο λεξιλόγιο το μοντέλο έχει καλή απόδοση και τις αναγνωρίζει με επιτυχία. Για παράδειγμα οι λέξεις: $\\{ biscuits, independent, bicycle, southern, scissors, visitors \\}$ αναγνωρίζονται σωστά. Λέξεις όμως όπως τα: $\\{ poems, cake , awful \\}$ αναγνωρίζονται δυσκολότερα (λανθασμένα) γιατί ειναι μικρές και έχουν κοινά προθέματα και επιθέματα με άλλες λέξεις. \n",
    "\n",
    "Δύο είναι οι κύριοι παράγοντες προς βελτίωση που επηρεάζουν την απόδοση του μοντέλου:\n",
    "\n",
    "* Το μικρό σύνολο εκπαίδευσης. Εάν το μοντέλο δεν γνωρίζει μια λέξη δεν μπορεί να την αναγνωρίσει και αρα η διόρθωση σε αυτή θα προκύπτει πάντα λάθος. Το corpus απο ένωση 3 βιβλίων δεν ειναι αρκετό για να εξαλείψει σε ικανοποιητικό βαθμό αυτον τον τύπο λάθους. Αν και με την προσθήκη 3ου βιβλίου είδαμε αισθητή βελτίωση απο τα 2 βιβλία. \n",
    "\n",
    "* Τα ίσα βάρη στις μετατροπές. Σε πολλές περιπτώσεις ακόμα και αν το μοντέλο γνωρίζει μια λέξη δεν καταφέρνει να διορθώσει σε αυτήν γιατί υπάρχουν ακόμα πολλές λέξεις με την ίδια ελάχιστη απόσταση. Με την \"δίκαιη\" αυτή αντιμετώπιση εισάγεται τυχαιότητα στην απόδοση του μοντέλου καθώς το αν θα προκύψει η σωστή λέξη απο αυτές με την ελάχιστη απόσταση ειναι κατα βάση τυχαίο. \n"
   ]
  },
  {
   "cell_type": "markdown",
   "metadata": {},
   "source": [
    "### Βήμα 9\n",
    "\n",
    "Στο ερώτημα αυτο θα ασχοληθούμε με αναπαραστάσεις word2vec. Έχουμε ήδη μιλήσει για διανυσματικές αναπαραστάσεις λέξεων στην εισαγωγή. Στόχος είναι η αναπαράσταση λέξεων στον $\\mathbb{R}^d$ έτσι ώστε να βρίσκονται σημασιολογικά κοντά. Το training γίνεται με βάση την θέση τους στο κείμενο με κυλιόμενο παράθυρο. Ο αλγόριθμος είναι unsupervised και ανάλογα με την προσέγγιση έχει διαφορετικά inputs και outputs. Οι 2 βασικές προσεγγίσεις είναι Continuous Bag of Words (input στο νευρωνικό δίκτυο το context της λέξης, προβλέπεται η λέξη) και continuous skip gram (η λέξη χρησιμοποείται για πρόβλεψη των γειτονικών λέξεων). \n",
    "\n",
    "Διαβάζουμε αρχικά το corpus σε μία λίστα απο προτάσεις με το tokenization που είχαμε υλοποιήσει σε προηγούμενο ερώτημα. Στην συνέχεια εκπαιδεύουμε 100 διάστατα word2vec embeddings με βάση τις προτάσεις που προκύπτουν. Χρησιμοποιούμε $window=5$ και $epochs=100$.\n",
    "\n",
    "Για 10 τυχαίες λέξεις θα δείξουμε τις σημασιολογικά κοντινότερες τους."
   ]
  },
  {
   "cell_type": "code",
   "execution_count": 7,
   "metadata": {
    "scrolled": true
   },
   "outputs": [],
   "source": [
    "#Step 9(a)\n",
    "\n",
    "def tokenized_list(path,preprocess=identity_preprocess):\n",
    "  list_of_sentences=[]\n",
    "  f = open(path, \"r\")\n",
    "  for line in f:\n",
    "    l = preprocess(line)\n",
    "    if l:\n",
    "        list_of_sentences.append(l)\n",
    "  return list_of_sentences\n",
    "\n",
    "\n",
    "list1 = tokenized_list('./data/36-0.txt',tokenize)\n",
    "list2 = tokenized_list('./data/2591-0.txt',tokenize)\n",
    "list3 = tokenized_list('./data/1342-0.txt',tokenize)\n",
    "final_list = list1 + list2 + list3"
   ]
  },
  {
   "cell_type": "code",
   "execution_count": 8,
   "metadata": {
    "scrolled": true
   },
   "outputs": [],
   "source": [
    "#!pip install -U gensim\n",
    "from gensim.test.utils import common_texts, get_tmpfile\n",
    "from gensim.models import Word2Vec"
   ]
  },
  {
   "cell_type": "code",
   "execution_count": 81,
   "metadata": {
    "collapsed": true
   },
   "outputs": [
    {
     "name": "stdout",
     "output_type": "stream",
     "text": [
      "Most similar words to \"ships\":\n",
      "     \"boys\" -- sim: 0.41694754362106323\n",
      "     \"harnessed\" -- sim: 0.3985651433467865\n",
      "     \"swift\" -- sim: 0.3886103630065918\n",
      "     \"catch\" -- sim: 0.36315158009529114\n",
      "     \"sisters\" -- sim: 0.3421361446380615\n",
      "     \"smashing\" -- sim: 0.33123576641082764\n",
      "     \"minds\" -- sim: 0.3193756639957428\n",
      "     \"kensington\" -- sim: 0.3184116780757904\n",
      "     \"air\" -- sim: 0.31755053997039795\n",
      "     \"animals\" -- sim: 0.31332144141197205\n",
      "Most similar words to \"fancied\":\n",
      "     \"afraid\" -- sim: 0.3380765914916992\n",
      "     \"metallic\" -- sim: 0.3361263871192932\n",
      "     \"mass\" -- sim: 0.3179692327976227\n",
      "     \"sign\" -- sim: 0.31656211614608765\n",
      "     \"certain\" -- sim: 0.3084232807159424\n",
      "     \"flashes\" -- sim: 0.303358256816864\n",
      "     \"peering\" -- sim: 0.28675901889801025\n",
      "     \"beheld\" -- sim: 0.2860831022262573\n",
      "     \"scarcely\" -- sim: 0.283993124961853\n",
      "     \"amazed\" -- sim: 0.2808462679386139\n",
      "Most similar words to \"descend\":\n",
      "     \"go\" -- sim: 0.3832077980041504\n",
      "     \"rampion\" -- sim: 0.35249269008636475\n",
      "     \"get\" -- sim: 0.31371650099754333\n",
      "     \"prepare\" -- sim: 0.29608890414237976\n",
      "     \"species\" -- sim: 0.2953447997570038\n",
      "     \"spring\" -- sim: 0.29285603761672974\n",
      "     \"stove\" -- sim: 0.2913908362388611\n",
      "     \"be\" -- sim: 0.29009896516799927\n",
      "     \"foolish\" -- sim: 0.2812425494194031\n",
      "     \"monstrous\" -- sim: 0.27879688143730164\n",
      "Most similar words to \"spare\":\n",
      "     \"prayed\" -- sim: 0.34640738368034363\n",
      "     \"tomorrow\" -- sim: 0.3455117344856262\n",
      "     \"scolded\" -- sim: 0.34429553151130676\n",
      "     \"ago\" -- sim: 0.33390215039253235\n",
      "     \"yonder\" -- sim: 0.3290153741836548\n",
      "     \"wounded\" -- sim: 0.32852357625961304\n",
      "     \"sword\" -- sim: 0.3243410289287567\n",
      "     \"escaped\" -- sim: 0.31979161500930786\n",
      "     \"narrowly\" -- sim: 0.31799083948135376\n",
      "     \"consented\" -- sim: 0.2994628846645355\n",
      "Most similar words to \"unfamiliar\":\n",
      "     \"sunset\" -- sim: 0.36782634258270264\n",
      "     \"card\" -- sim: 0.36583957076072693\n",
      "     \"chiefly\" -- sim: 0.3436545431613922\n",
      "     \"v\" -- sim: 0.324502557516098\n",
      "     \"blood\" -- sim: 0.323427677154541\n",
      "     \"enormous\" -- sim: 0.32218408584594727\n",
      "     \"friday\" -- sim: 0.31313756108283997\n",
      "     \"living\" -- sim: 0.3117698132991791\n",
      "     \"enchanted\" -- sim: 0.3092540502548218\n",
      "     \"effect\" -- sim: 0.3076919615268707\n",
      "Most similar words to \"use\":\n",
      "     \"copy\" -- sim: 0.36803898215293884\n",
      "     \"liability\" -- sim: 0.36273473501205444\n",
      "     \"fortune\" -- sim: 0.3351083993911743\n",
      "     \"limited\" -- sim: 0.3207685351371765\n",
      "     \"providing\" -- sim: 0.32007092237472534\n",
      "     \"account\" -- sim: 0.3123016059398651\n",
      "     \"equipment\" -- sim: 0.3098588287830353\n",
      "     \"sort\" -- sim: 0.30444538593292236\n",
      "     \"fee\" -- sim: 0.30059555172920227\n",
      "     \"replacement\" -- sim: 0.2948415279388428\n",
      "Most similar words to \"settled\":\n",
      "     \"shepperton\" -- sim: 0.34838414192199707\n",
      "     \"roadway\" -- sim: 0.3222693204879761\n",
      "     \"hour\" -- sim: 0.3067469894886017\n",
      "     \"addition\" -- sim: 0.30599310994148254\n",
      "     \"alighted\" -- sim: 0.3017646372318268\n",
      "     \"captain\" -- sim: 0.30049973726272583\n",
      "     \"peeped\" -- sim: 0.29838165640830994\n",
      "     \"drove\" -- sim: 0.2850123941898346\n",
      "     \"became\" -- sim: 0.28219103813171387\n",
      "     \"hastened\" -- sim: 0.28180965781211853\n",
      "Most similar words to \"ll\":\n",
      "     \"will\" -- sim: 0.682231605052948\n",
      "     \"shall\" -- sim: 0.5499037504196167\n",
      "     \"must\" -- sim: 0.48828715085983276\n",
      "     \"can\" -- sim: 0.4728280007839203\n",
      "     \"cannot\" -- sim: 0.45434701442718506\n",
      "     \"may\" -- sim: 0.44416701793670654\n",
      "     \"should\" -- sim: 0.4310094714164734\n",
      "     \"is\" -- sim: 0.41130104660987854\n",
      "     \"could\" -- sim: 0.37776222825050354\n",
      "     \"are\" -- sim: 0.36137646436691284\n",
      "Most similar words to \"bury\":\n",
      "     \"crushed\" -- sim: 0.3727807402610779\n",
      "     \"take\" -- sim: 0.3437499403953552\n",
      "     \"tear\" -- sim: 0.32038620114326477\n",
      "     \"help\" -- sim: 0.3102990388870239\n",
      "     \"lower\" -- sim: 0.3078732192516327\n",
      "     \"brown\" -- sim: 0.30578795075416565\n",
      "     \"hands\" -- sim: 0.30455052852630615\n",
      "     \"leave\" -- sim: 0.29295244812965393\n",
      "     \"steal\" -- sim: 0.291642427444458\n",
      "     \"overthrow\" -- sim: 0.2904402017593384\n",
      "Most similar words to \"pearls\":\n",
      "     \"roland\" -- sim: 0.3492479622364044\n",
      "     \"stones\" -- sim: 0.34895434975624084\n",
      "     \"valley\" -- sim: 0.34802138805389404\n",
      "     \"skill\" -- sim: 0.3475112318992615\n",
      "     \"town\" -- sim: 0.3405414819717407\n",
      "     \"property\" -- sim: 0.33357754349708557\n",
      "     \"betrothed\" -- sim: 0.31572645902633667\n",
      "     \"low\" -- sim: 0.3135850727558136\n",
      "     \"diamonds\" -- sim: 0.30492329597473145\n",
      "     \"coffin\" -- sim: 0.3012617230415344\n"
     ]
    }
   ],
   "source": [
    "#Step 9(b,c)\n",
    "\n",
    "# Initialize word2vec. Context is taken as the 2 previous and 2 next words\n",
    "model = Word2Vec(final_list, window=5, size=100, workers=4)\n",
    "model.train(final_list, total_examples=len(final_list), epochs=1000)\n",
    "# get ordered vocabulary list\n",
    "voc = model.wv.index2word\n",
    "# get vector size\n",
    "dim = model.vector_size\n",
    "#pick 10 random words from the dictionary\n",
    "idxs = random.sample(range(0, len(voc)), 10)\n",
    "rand_words = [voc[i] for i in idxs]\n",
    "for word in rand_words:\n",
    "    print(f'Most similar words to \"{word}\":')\n",
    "    for word,sim in model.wv.most_similar(word):\n",
    "        print(f'     \"{word}\" -- sim: {sim}')\n"
   ]
  },
  {
   "cell_type": "markdown",
   "metadata": {},
   "source": [
    "\n",
    "(γ) Τα αποτελέσματα του μοντέλου δεν ειναι ικανοποιητικα. Οι λέξεις δεν έχουν επι το πλείστον σημασιολογική συσχέτιση, εκτός ενδεχομένως απο κάποιο κοινό θέμα.´Όπως οι μέρες της εβδομάδας, οι αριθμοί, ανθρώπινα ονόματα ή κάποια ανθρώπινη δράση. \n",
    "\n",
    "Θα προσπαθήσουμε τώρα να βελτιώσουμε το αποτέλεσμα του μοντέλου αλλάζωντας τις εξής παραμέτρους:\n",
    "* Αυξάνουμε το μέγεθος του παραθύρου context κρατώντας τον αριθμό εποχών σταθερό\n",
    "\n",
    "* Αυξάνουμε τον αριθμό των εποχών κρατώντας το μέγεθος του παραθύρου σταθερό\n",
    "\n",
    "* Αυξάνουμε και τον αριθμό εποχών και το μέγεθος του παραθύρου\n",
    "\n",
    "Παρακάτω παραθέτουμε τα αποτελέσματα του similarity 20 τυχαίων λέξεων για κάθε μία από τις τρεις περιπτώσεις. Για μέγεθος παραθύρου κοντά στο 1 έχουμε πληροφορία σύνταξης. Για μεγαλύτερο παράθυρο αντιστοιχίζουμε λέξεις με βάση την σημασιολογία. \n",
    "\n",
    "Για μεγαλύτερο μέγεθος παραθύρου θα περιμέναμε λοιπόν καλύτερα αποτελέσματα, εφόσων αναζητούμε σημασιολογικά κοντινές λέξεις. Κάτι τέτοιο δεν συμβαίνει στην πράξη. Εικάζουμε οτι αυτο οφείλεται στο μικρό σύνολο δεδομένων εκπαίδευσης που δεν επιτρέπουν στο μοντέλο να έχει μεγάλη εκφραστικότητα. Συγκεκριμένα για ακριβείς αναπαραστάσεις word2vec θέλουμε εκαττομύρια λέξεις και όχι της ταξής των 5000 που προκύπτουν απο το corpus μας. Παρατηρήσαμε οτι το word2vec όπως ειναι υλοποιημένο στην βιβλιοθήκη αγνοεί σπάνιες λέξεις, για αυτο και υπήρξε μείωση στο αρχικό vocabulary που εξάγαμε. Συγκεκριμένα η παράμετρος _min_count (int, optional)_ καθορίζει πόσο μικρή συχνότητα πρέπει να έχει μια λέξη για να θεωρηθεί οτι δεν μπορεί να δώσει με ακρίβεια πληροφορία, και να αγνοηθεί.\n",
    "\n",
    "Για αύξηση των αριθμών των epochs επίσης δεν έχουμε καλύτερο αποτέλεσμα. Για να επηρεάσει ουσιαστικά ο αριθμός εποχών θα πρέπει να έχουμε ενα αρκετά μεγάλο σύνολο δεδομένων ώστε ο αλγόριθμος να μην κανει πρόωρα converge. Για εμάς και μικρός αριθμός εποχών ειναι αρκετος. \n",
    "\n",
    "Συμπερασματικά  ο πιο καθοριστικός παράγοντας για σωστή εξαγωγή αναπαραστάσεων ειναι ο αριθμός των δεδομένων εκπαίδευσης.\n"
   ]
  },
  {
   "cell_type": "code",
   "execution_count": 12,
   "metadata": {},
   "outputs": [],
   "source": [
    "#Step 9(c (i))\n",
    "\n",
    "def similarity(w,s,e):\n",
    "    model = Word2Vec(final_list, window=w, size=s, workers=4)\n",
    "    model.train(final_list, total_examples=len(final_list), epochs=e)\n",
    "    voc = model.wv.index2word\n",
    "    dim = model.vector_size\n",
    "    rand_words = [voc[i] for i in idxs]\n",
    "    for word in rand_words:\n",
    "        print(f'Most similar words to \"{word}\":')\n",
    "        for word,sim in model.wv.most_similar(word)[0:2]:\n",
    "            print(f'     \"{word}\" -- sim: {sim}')\n",
    "            "
   ]
  },
  {
   "cell_type": "code",
   "execution_count": 33,
   "metadata": {
    "collapsed": true
   },
   "outputs": [
    {
     "name": "stdout",
     "output_type": "stream",
     "text": [
      "Most similar words to \"bell\":\n",
      "     \"hunting\" -- sim: 0.32449445128440857\n",
      "     \"grow\" -- sim: 0.30320775508880615\n",
      "     \"boiling\" -- sim: 0.2744957506656647\n",
      "     \"curdken\" -- sim: 0.2740527093410492\n",
      "     \"john\" -- sim: 0.2679397761821747\n",
      "     \"chain\" -- sim: 0.26712465286254883\n",
      "     \"f\" -- sim: 0.2648935914039612\n",
      "     \"party\" -- sim: 0.26468372344970703\n",
      "     \"cast\" -- sim: 0.2637123167514801\n",
      "     \"cake\" -- sim: 0.26236748695373535\n",
      "Most similar words to \"silver\":\n",
      "     \"torn\" -- sim: 0.3431171178817749\n",
      "     \"miserable\" -- sim: 0.3217596709728241\n",
      "     \"gifts\" -- sim: 0.32025212049484253\n",
      "     \"train\" -- sim: 0.31301024556159973\n",
      "     \"dancing\" -- sim: 0.30746889114379883\n",
      "     \"race\" -- sim: 0.3057774305343628\n",
      "     \"easy\" -- sim: 0.2964330315589905\n",
      "     \"tore\" -- sim: 0.29458776116371155\n",
      "     \"rampion\" -- sim: 0.29034423828125\n",
      "     \"exactly\" -- sim: 0.2902930974960327\n",
      "Most similar words to \"window\":\n",
      "     \"fight\" -- sim: 0.345350444316864\n",
      "     \"house\" -- sim: 0.3443455696105957\n",
      "     \"wall\" -- sim: 0.3301577866077423\n",
      "     \"road\" -- sim: 0.3251321017742157\n",
      "     \"pebbles\" -- sim: 0.3242195248603821\n",
      "     \"door\" -- sim: 0.32421034574508667\n",
      "     \"arms\" -- sim: 0.31830814480781555\n",
      "     \"gates\" -- sim: 0.31352323293685913\n",
      "     \"coal\" -- sim: 0.30924928188323975\n",
      "     \"object\" -- sim: 0.30820232629776\n",
      "Most similar words to \"thank\":\n",
      "     \"worse\" -- sim: 0.3291521668434143\n",
      "     \"tell\" -- sim: 0.3167377710342407\n",
      "     \"dame\" -- sim: 0.30844730138778687\n",
      "     \"mankind\" -- sim: 0.3022269308567047\n",
      "     \"lies\" -- sim: 0.29113584756851196\n",
      "     \"tomorrow\" -- sim: 0.2861083149909973\n",
      "     \"invited\" -- sim: 0.28546908497810364\n",
      "     \"gretel\" -- sim: 0.2839014530181885\n",
      "     \"steal\" -- sim: 0.28151220083236694\n",
      "     \"screamed\" -- sim: 0.28083717823028564\n",
      "Most similar words to \"copyright\":\n",
      "     \"united\" -- sim: 0.4404956102371216\n",
      "     \"e\" -- sim: 0.3954172432422638\n",
      "     \"grimm\" -- sim: 0.3662761449813843\n",
      "     \"domain\" -- sim: 0.34802496433258057\n",
      "     \"foundation\" -- sim: 0.34383082389831543\n",
      "     \"complying\" -- sim: 0.33942174911499023\n",
      "     \"proud\" -- sim: 0.3345624804496765\n",
      "     \"official\" -- sim: 0.332510769367218\n",
      "     \"lot\" -- sim: 0.3308095335960388\n",
      "     \"user\" -- sim: 0.3303309977054596\n",
      "Most similar words to \"bow\":\n",
      "     \"wren\" -- sim: 0.3716387152671814\n",
      "     \"included\" -- sim: 0.356658011674881\n",
      "     \"dresses\" -- sim: 0.3240189552307129\n",
      "     \"dearest\" -- sim: 0.29395541548728943\n",
      "     \"load\" -- sim: 0.2929774224758148\n",
      "     \"permission\" -- sim: 0.28851354122161865\n",
      "     \"turnip\" -- sim: 0.28029733896255493\n",
      "     \"been\" -- sim: 0.27576810121536255\n",
      "     \"tune\" -- sim: 0.27554887533187866\n",
      "     \"misfortune\" -- sim: 0.2688415050506592\n",
      "Most similar words to \"splendid\":\n",
      "     \"beautiful\" -- sim: 0.38934603333473206\n",
      "     \"tasted\" -- sim: 0.30972081422805786\n",
      "     \"golden\" -- sim: 0.3068625032901764\n",
      "     \"shipping\" -- sim: 0.3039754629135132\n",
      "     \"accident\" -- sim: 0.30003970861434937\n",
      "     \"setting\" -- sim: 0.2890866994857788\n",
      "     \"thief\" -- sim: 0.2813575863838196\n",
      "     \"primrose\" -- sim: 0.2791675925254822\n",
      "     \"including\" -- sim: 0.2748066782951355\n",
      "     \"shore\" -- sim: 0.27259472012519836\n",
      "Most similar words to \"death\":\n",
      "     \"wonder\" -- sim: 0.3574742078781128\n",
      "     \"pieces\" -- sim: 0.35106539726257324\n",
      "     \"impossible\" -- sim: 0.3277992308139801\n",
      "     \"o\" -- sim: 0.31762680411338806\n",
      "     \"purpose\" -- sim: 0.28436070680618286\n",
      "     \"case\" -- sim: 0.28205129504203796\n",
      "     \"resumed\" -- sim: 0.27614203095436096\n",
      "     \"willing\" -- sim: 0.2755258083343506\n",
      "     \"notice\" -- sim: 0.2574743628501892\n",
      "     \"guns\" -- sim: 0.25695645809173584\n",
      "Most similar words to \"dragging\":\n",
      "     \"striding\" -- sim: 0.34715718030929565\n",
      "     \"likewise\" -- sim: 0.27286264300346375\n",
      "     \"proved\" -- sim: 0.26737117767333984\n",
      "     \"lazy\" -- sim: 0.2661733031272888\n",
      "     \"quite\" -- sim: 0.2639486789703369\n",
      "     \"beheld\" -- sim: 0.2562434673309326\n",
      "     \"halfway\" -- sim: 0.25567305088043213\n",
      "     \"no\" -- sim: 0.25319668650627136\n",
      "     \"passing\" -- sim: 0.24964570999145508\n",
      "     \"force\" -- sim: 0.24520254135131836\n",
      "Most similar words to \"seven\":\n",
      "     \"nine\" -- sim: 0.3106468915939331\n",
      "     \"three\" -- sim: 0.29650700092315674\n",
      "     \"few\" -- sim: 0.28336143493652344\n",
      "     \"five\" -- sim: 0.28179246187210083\n",
      "     \"floor\" -- sim: 0.2810235321521759\n",
      "     \"length\" -- sim: 0.2808348536491394\n",
      "     \"looking\" -- sim: 0.2795862555503845\n",
      "     \"breezes\" -- sim: 0.2788514494895935\n",
      "     \"card\" -- sim: 0.2780665457248688\n",
      "     \"opening\" -- sim: 0.2764633297920227\n"
     ]
    }
   ],
   "source": [
    "similarity(10,100,2000)"
   ]
  },
  {
   "cell_type": "code",
   "execution_count": 34,
   "metadata": {
    "collapsed": true
   },
   "outputs": [
    {
     "name": "stdout",
     "output_type": "stream",
     "text": [
      "Most similar words to \"bell\":\n",
      "     \"hunting\" -- sim: 0.3429935574531555\n",
      "     \"less\" -- sim: 0.3279402256011963\n",
      "     \"disclaimer\" -- sim: 0.32247552275657654\n",
      "     \"dawned\" -- sim: 0.30565589666366577\n",
      "     \"cast\" -- sim: 0.2974476218223572\n",
      "     \"mill\" -- sim: 0.29500746726989746\n",
      "     \"tan\" -- sim: 0.2875020503997803\n",
      "     \"this\" -- sim: 0.2817056179046631\n",
      "     \"drank\" -- sim: 0.2732568085193634\n",
      "     \"gently\" -- sim: 0.2725380063056946\n",
      "Most similar words to \"silver\":\n",
      "     \"miserable\" -- sim: 0.35244911909103394\n",
      "     \"tore\" -- sim: 0.31512022018432617\n",
      "     \"steal\" -- sim: 0.3009749948978424\n",
      "     \"lamp\" -- sim: 0.29763495922088623\n",
      "     \"train\" -- sim: 0.2955177128314972\n",
      "     \"easy\" -- sim: 0.2939110994338989\n",
      "     \"full\" -- sim: 0.2925071716308594\n",
      "     \"courage\" -- sim: 0.2877197861671448\n",
      "     \"liability\" -- sim: 0.28388547897338867\n",
      "     \"blackness\" -- sim: 0.28297221660614014\n",
      "Most similar words to \"window\":\n",
      "     \"western\" -- sim: 0.3311654329299927\n",
      "     \"gate\" -- sim: 0.32796308398246765\n",
      "     \"fight\" -- sim: 0.323650598526001\n",
      "     \"evidently\" -- sim: 0.32337504625320435\n",
      "     \"misfortune\" -- sim: 0.31650039553642273\n",
      "     \"gates\" -- sim: 0.31532394886016846\n",
      "     \"coal\" -- sim: 0.3103228211402893\n",
      "     \"tailor\" -- sim: 0.30743905901908875\n",
      "     \"door\" -- sim: 0.3063105344772339\n",
      "     \"driver\" -- sim: 0.30608415603637695\n",
      "Most similar words to \"thank\":\n",
      "     \"worse\" -- sim: 0.3455258011817932\n",
      "     \"terrified\" -- sim: 0.3395785391330719\n",
      "     \"shake\" -- sim: 0.3296877443790436\n",
      "     \"watched\" -- sim: 0.32260483503341675\n",
      "     \"kill\" -- sim: 0.3071005642414093\n",
      "     \"thumb\" -- sim: 0.30508142709732056\n",
      "     \"yards\" -- sim: 0.304368257522583\n",
      "     \"asked\" -- sim: 0.2967797815799713\n",
      "     \"invited\" -- sim: 0.296440452337265\n",
      "     \"store\" -- sim: 0.29516512155532837\n",
      "Most similar words to \"copyright\":\n",
      "     \"grimm\" -- sim: 0.3771515488624573\n",
      "     \"derivative\" -- sim: 0.3685777187347412\n",
      "     \"united\" -- sim: 0.36767101287841797\n",
      "     \"electronic\" -- sim: 0.35008448362350464\n",
      "     \"e\" -- sim: 0.3366979956626892\n",
      "     \"soul\" -- sim: 0.33073437213897705\n",
      "     \"favour\" -- sim: 0.33063602447509766\n",
      "     \"associated\" -- sim: 0.32867226004600525\n",
      "     \"lot\" -- sim: 0.3273012042045593\n",
      "     \"complying\" -- sim: 0.325133740901947\n",
      "Most similar words to \"bow\":\n",
      "     \"general\" -- sim: 0.31275075674057007\n",
      "     \"dresses\" -- sim: 0.30330994725227356\n",
      "     \"cord\" -- sim: 0.28771159052848816\n",
      "     \"barrel\" -- sim: 0.2874527871608734\n",
      "     \"clambered\" -- sim: 0.28742629289627075\n",
      "     \"wren\" -- sim: 0.28574901819229126\n",
      "     \"start\" -- sim: 0.2798890173435211\n",
      "     \"format\" -- sim: 0.27425888180732727\n",
      "     \"concussion\" -- sim: 0.272775262594223\n",
      "     \"quarters\" -- sim: 0.27040284872055054\n",
      "Most similar words to \"splendid\":\n",
      "     \"judged\" -- sim: 0.3075942099094391\n",
      "     \"beautiful\" -- sim: 0.30681896209716797\n",
      "     \"shore\" -- sim: 0.293620228767395\n",
      "     \"whole\" -- sim: 0.29031211137771606\n",
      "     \"rampion\" -- sim: 0.2898063659667969\n",
      "     \"sprang\" -- sim: 0.2895924746990204\n",
      "     \"quarter\" -- sim: 0.2878200113773346\n",
      "     \"simple\" -- sim: 0.28625041246414185\n",
      "     \"main\" -- sim: 0.2838241457939148\n",
      "     \"including\" -- sim: 0.2808419466018677\n",
      "Most similar words to \"death\":\n",
      "     \"purpose\" -- sim: 0.3678639233112335\n",
      "     \"wonder\" -- sim: 0.2999487817287445\n",
      "     \"pieces\" -- sim: 0.29393818974494934\n",
      "     \"journey\" -- sim: 0.2926340103149414\n",
      "     \"resumed\" -- sim: 0.2918499708175659\n",
      "     \"everything\" -- sim: 0.2902819812297821\n",
      "     \"mist\" -- sim: 0.2801641821861267\n",
      "     \"gift\" -- sim: 0.2771993577480316\n",
      "     \"frog\" -- sim: 0.2751310467720032\n",
      "     \"fate\" -- sim: 0.273884117603302\n",
      "Most similar words to \"dragging\":\n",
      "     \"striding\" -- sim: 0.35275232791900635\n",
      "     \"likewise\" -- sim: 0.33015865087509155\n",
      "     \"slipped\" -- sim: 0.29084259271621704\n",
      "     \"instant\" -- sim: 0.2852481007575989\n",
      "     \"lazy\" -- sim: 0.27592700719833374\n",
      "     \"no\" -- sim: 0.27261489629745483\n",
      "     \"little\" -- sim: 0.2675169110298157\n",
      "     \"bound\" -- sim: 0.26414671540260315\n",
      "     \"wild\" -- sim: 0.2629639506340027\n",
      "     \"surely\" -- sim: 0.26231589913368225\n",
      "Most similar words to \"seven\":\n",
      "     \"striding\" -- sim: 0.33395957946777344\n",
      "     \"vain\" -- sim: 0.3280385732650757\n",
      "     \"three\" -- sim: 0.32418787479400635\n",
      "     \"many\" -- sim: 0.3127896189689636\n",
      "     \"thick\" -- sim: 0.30273425579071045\n",
      "     \"displaying\" -- sim: 0.30183467268943787\n",
      "     \"lay\" -- sim: 0.28900811076164246\n",
      "     \"breezes\" -- sim: 0.28658151626586914\n",
      "     \"floor\" -- sim: 0.28532686829566956\n",
      "     \"opening\" -- sim: 0.2842869758605957\n"
     ]
    }
   ],
   "source": [
    "similarity(15,100,2000)"
   ]
  },
  {
   "cell_type": "code",
   "execution_count": 31,
   "metadata": {
    "collapsed": true
   },
   "outputs": [
    {
     "name": "stdout",
     "output_type": "stream",
     "text": [
      "Most similar words to \"bell\":\n",
      "     \"planted\" -- sim: 0.3346071243286133\n",
      "     \"waiting\" -- sim: 0.29823920130729675\n",
      "     \"party\" -- sim: 0.29563140869140625\n",
      "     \"drop\" -- sim: 0.2951899766921997\n",
      "     \"support\" -- sim: 0.29239869117736816\n",
      "     \"curdken\" -- sim: 0.28694701194763184\n",
      "     \"everyone\" -- sim: 0.28688186407089233\n",
      "     \"breakfast\" -- sim: 0.2795769274234772\n",
      "     \"steak\" -- sim: 0.2774592339992523\n",
      "     \"dawned\" -- sim: 0.27737024426460266\n",
      "Most similar words to \"silver\":\n",
      "     \"smart\" -- sim: 0.32704150676727295\n",
      "     \"sense\" -- sim: 0.3109772205352783\n",
      "     \"treasure\" -- sim: 0.30615323781967163\n",
      "     \"your\" -- sim: 0.30246713757514954\n",
      "     \"steak\" -- sim: 0.29568785429000854\n",
      "     \"buttons\" -- sim: 0.2930767238140106\n",
      "     \"locks\" -- sim: 0.28750860691070557\n",
      "     \"yard\" -- sim: 0.2864888310432434\n",
      "     \"incredible\" -- sim: 0.2850775718688965\n",
      "     \"torn\" -- sim: 0.28429627418518066\n",
      "Most similar words to \"window\":\n",
      "     \"house\" -- sim: 0.4080429971218109\n",
      "     \"gates\" -- sim: 0.36660557985305786\n",
      "     \"door\" -- sim: 0.35188916325569153\n",
      "     \"gate\" -- sim: 0.3399267792701721\n",
      "     \"circle\" -- sim: 0.3367270529270172\n",
      "     \"room\" -- sim: 0.3339301645755768\n",
      "     \"news\" -- sim: 0.3269195556640625\n",
      "     \"object\" -- sim: 0.32338809967041016\n",
      "     \"evidently\" -- sim: 0.30536702275276184\n",
      "     \"coal\" -- sim: 0.2996499538421631\n",
      "Most similar words to \"thank\":\n",
      "     \"worse\" -- sim: 0.38240036368370056\n",
      "     \"do\" -- sim: 0.3618098199367523\n",
      "     \"additional\" -- sim: 0.348079115152359\n",
      "     \"tomorrow\" -- sim: 0.3379906117916107\n",
      "     \"unless\" -- sim: 0.33697691559791565\n",
      "     \"kerchief\" -- sim: 0.3354807496070862\n",
      "     \"cost\" -- sim: 0.33174413442611694\n",
      "     \"tell\" -- sim: 0.3310144543647766\n",
      "     \"kindness\" -- sim: 0.32725825905799866\n",
      "     \"does\" -- sim: 0.31929683685302734\n",
      "Most similar words to \"copyright\":\n",
      "     \"foundation\" -- sim: 0.4326537549495697\n",
      "     \"state\" -- sim: 0.42840734124183655\n",
      "     \"included\" -- sim: 0.38246041536331177\n",
      "     \"domain\" -- sim: 0.37425315380096436\n",
      "     \"united\" -- sim: 0.3703467845916748\n",
      "     \"tm\" -- sim: 0.366292268037796\n",
      "     \"terms\" -- sim: 0.3648574948310852\n",
      "     \"complying\" -- sim: 0.3647604286670685\n",
      "     \"writing\" -- sim: 0.3606833815574646\n",
      "     \"defect\" -- sim: 0.3586543798446655\n",
      "Most similar words to \"bow\":\n",
      "     \"wren\" -- sim: 0.3379477858543396\n",
      "     \"chain\" -- sim: 0.3357863128185272\n",
      "     \"heads\" -- sim: 0.32833370566368103\n",
      "     \"points\" -- sim: 0.3063388466835022\n",
      "     \"prize\" -- sim: 0.30563870072364807\n",
      "     \"wheel\" -- sim: 0.3007568418979645\n",
      "     \"heart\" -- sim: 0.2957151234149933\n",
      "     \"load\" -- sim: 0.29117828607559204\n",
      "     \"sing\" -- sim: 0.28682368993759155\n",
      "     \"turnip\" -- sim: 0.28476542234420776\n",
      "Most similar words to \"splendid\":\n",
      "     \"familiar\" -- sim: 0.3862461447715759\n",
      "     \"beautiful\" -- sim: 0.33914047479629517\n",
      "     \"setting\" -- sim: 0.3207703232765198\n",
      "     \"clearly\" -- sim: 0.31212639808654785\n",
      "     \"jorindel\" -- sim: 0.3072367310523987\n",
      "     \"golden\" -- sim: 0.3042844533920288\n",
      "     \"whirl\" -- sim: 0.2982524037361145\n",
      "     \"song\" -- sim: 0.29726749658584595\n",
      "     \"incredible\" -- sim: 0.2909998595714569\n",
      "     \"jorinda\" -- sim: 0.28467822074890137\n",
      "Most similar words to \"death\":\n",
      "     \"notice\" -- sim: 0.36114537715911865\n",
      "     \"purpose\" -- sim: 0.33892497420310974\n",
      "     \"beginning\" -- sim: 0.3350093364715576\n",
      "     \"impossible\" -- sim: 0.3304945230484009\n",
      "     \"energy\" -- sim: 0.3077414631843567\n",
      "     \"guest\" -- sim: 0.3026273250579834\n",
      "     \"pieces\" -- sim: 0.2990110218524933\n",
      "     \"face\" -- sim: 0.2794652581214905\n",
      "     \"die\" -- sim: 0.2792832553386688\n",
      "     \"martian\" -- sim: 0.2751954197883606\n",
      "Most similar words to \"dragging\":\n",
      "     \"striding\" -- sim: 0.31783202290534973\n",
      "     \"send\" -- sim: 0.3053951561450958\n",
      "     \"lazy\" -- sim: 0.3017961382865906\n",
      "     \"curdken\" -- sim: 0.2738468647003174\n",
      "     \"proved\" -- sim: 0.2613256573677063\n",
      "     \"glass\" -- sim: 0.2444239854812622\n",
      "     \"pushing\" -- sim: 0.24174532294273376\n",
      "     \"sexton\" -- sim: 0.24135150015354156\n",
      "     \"left\" -- sim: 0.2341112494468689\n",
      "     \"returned\" -- sim: 0.23246118426322937\n",
      "Most similar words to \"seven\":\n",
      "     \"three\" -- sim: 0.35593241453170776\n",
      "     \"four\" -- sim: 0.3251788914203644\n",
      "     \"nuts\" -- sim: 0.30396580696105957\n",
      "     \"thieves\" -- sim: 0.29481297731399536\n",
      "     \"countless\" -- sim: 0.2885582447052002\n",
      "     \"nine\" -- sim: 0.28811076283454895\n",
      "     \"twelve\" -- sim: 0.2852471172809601\n",
      "     \"floor\" -- sim: 0.28377678990364075\n",
      "     \"looking\" -- sim: 0.2749313712120056\n",
      "     \"standing\" -- sim: 0.2684139609336853\n"
     ]
    }
   ],
   "source": [
    "#Step 9(c (ii))\n",
    "\n",
    "similarity(5,100,2000)"
   ]
  },
  {
   "cell_type": "code",
   "execution_count": 35,
   "metadata": {
    "collapsed": true
   },
   "outputs": [
    {
     "name": "stdout",
     "output_type": "stream",
     "text": [
      "Most similar words to \"bell\":\n",
      "     \"hunting\" -- sim: 0.3386894762516022\n",
      "     \"immediate\" -- sim: 0.31322407722473145\n",
      "     \"dawned\" -- sim: 0.2904212474822998\n",
      "     \"disclaimer\" -- sim: 0.2821723222732544\n",
      "     \"happening\" -- sim: 0.27011704444885254\n",
      "     \"f\" -- sim: 0.26597440242767334\n",
      "     \"grow\" -- sim: 0.264279305934906\n",
      "     \"party\" -- sim: 0.2610413134098053\n",
      "     \"mr\" -- sim: 0.2588898539543152\n",
      "     \"ringing\" -- sim: 0.25521984696388245\n",
      "Most similar words to \"silver\":\n",
      "     \"miserable\" -- sim: 0.37720009684562683\n",
      "     \"ear\" -- sim: 0.33412835001945496\n",
      "     \"treasure\" -- sim: 0.3237326741218567\n",
      "     \"flock\" -- sim: 0.3183053731918335\n",
      "     \"advance\" -- sim: 0.3124491572380066\n",
      "     \"howling\" -- sim: 0.3085130751132965\n",
      "     \"easy\" -- sim: 0.3064780831336975\n",
      "     \"whatsoever\" -- sim: 0.3033634424209595\n",
      "     \"train\" -- sim: 0.2900930643081665\n",
      "     \"sense\" -- sim: 0.28422147035598755\n",
      "Most similar words to \"window\":\n",
      "     \"house\" -- sim: 0.39663082361221313\n",
      "     \"evidently\" -- sim: 0.3287639617919922\n",
      "     \"gates\" -- sim: 0.32823213934898376\n",
      "     \"fight\" -- sim: 0.32584595680236816\n",
      "     \"folks\" -- sim: 0.3182070255279541\n",
      "     \"wall\" -- sim: 0.315400630235672\n",
      "     \"flames\" -- sim: 0.3142639398574829\n",
      "     \"pebbles\" -- sim: 0.31387102603912354\n",
      "     \"doves\" -- sim: 0.3117634654045105\n",
      "     \"alarmed\" -- sim: 0.3111545741558075\n",
      "Most similar words to \"thank\":\n",
      "     \"lies\" -- sim: 0.38467174768447876\n",
      "     \"wants\" -- sim: 0.35380274057388306\n",
      "     \"worse\" -- sim: 0.33031654357910156\n",
      "     \"dame\" -- sim: 0.32997506856918335\n",
      "     \"tell\" -- sim: 0.3299087882041931\n",
      "     \"bedroom\" -- sim: 0.3178217113018036\n",
      "     \"lead\" -- sim: 0.31689453125\n",
      "     \"do\" -- sim: 0.30729445815086365\n",
      "     \"send\" -- sim: 0.3028296232223511\n",
      "     \"knock\" -- sim: 0.2996225655078888\n",
      "Most similar words to \"copyright\":\n",
      "     \"e\" -- sim: 0.39786335825920105\n",
      "     \"united\" -- sim: 0.38577738404273987\n",
      "     \"grimm\" -- sim: 0.3806186020374298\n",
      "     \"distribute\" -- sim: 0.3599703311920166\n",
      "     \"domain\" -- sim: 0.34511032700538635\n",
      "     \"freely\" -- sim: 0.343134343624115\n",
      "     \"derivative\" -- sim: 0.34222787618637085\n",
      "     \"complying\" -- sim: 0.33558380603790283\n",
      "     \"electronic\" -- sim: 0.33515745401382446\n",
      "     \"ebook\" -- sim: 0.32613930106163025\n",
      "Most similar words to \"bow\":\n",
      "     \"wren\" -- sim: 0.3426697850227356\n",
      "     \"barrel\" -- sim: 0.3293496370315552\n",
      "     \"branches\" -- sim: 0.31771570444107056\n",
      "     \"worked\" -- sim: 0.31527191400527954\n",
      "     \"turnip\" -- sim: 0.3049994707107544\n",
      "     \"permission\" -- sim: 0.29921936988830566\n",
      "     \"summoned\" -- sim: 0.2877844572067261\n",
      "     \"general\" -- sim: 0.28544217348098755\n",
      "     \"dresses\" -- sim: 0.2794944941997528\n",
      "     \"quarters\" -- sim: 0.2707768678665161\n",
      "Most similar words to \"splendid\":\n",
      "     \"beautiful\" -- sim: 0.3678961396217346\n",
      "     \"tasted\" -- sim: 0.33179348707199097\n",
      "     \"curdken\" -- sim: 0.32323911786079407\n",
      "     \"shore\" -- sim: 0.29423075914382935\n",
      "     \"jorinda\" -- sim: 0.29109030961990356\n",
      "     \"shaped\" -- sim: 0.29022300243377686\n",
      "     \"site\" -- sim: 0.28888338804244995\n",
      "     \"setting\" -- sim: 0.2882590889930725\n",
      "     \"juniper\" -- sim: 0.2867860794067383\n",
      "     \"bare\" -- sim: 0.2798224687576294\n",
      "Most similar words to \"death\":\n",
      "     \"pieces\" -- sim: 0.3832632899284363\n",
      "     \"purpose\" -- sim: 0.3298809230327606\n",
      "     \"clothes\" -- sim: 0.32935208082199097\n",
      "     \"happen\" -- sim: 0.32739222049713135\n",
      "     \"probably\" -- sim: 0.32259389758110046\n",
      "     \"notice\" -- sim: 0.2954379916191101\n",
      "     \"impossible\" -- sim: 0.29080331325531006\n",
      "     \"sick\" -- sim: 0.2875380218029022\n",
      "     \"slain\" -- sim: 0.2863563597202301\n",
      "     \"wonder\" -- sim: 0.2807299494743347\n",
      "Most similar words to \"dragging\":\n",
      "     \"striding\" -- sim: 0.40368586778640747\n",
      "     \"little\" -- sim: 0.27769580483436584\n",
      "     \"likewise\" -- sim: 0.2732122242450714\n",
      "     \"printed\" -- sim: 0.25885260105133057\n",
      "     \"no\" -- sim: 0.25814008712768555\n",
      "     \"younger\" -- sim: 0.2550694942474365\n",
      "     \"beheld\" -- sim: 0.2535722553730011\n",
      "     \"passing\" -- sim: 0.25068429112434387\n",
      "     \"hardly\" -- sim: 0.24769321084022522\n",
      "     \"send\" -- sim: 0.2427583932876587\n",
      "Most similar words to \"seven\":\n",
      "     \"displaying\" -- sim: 0.3368123769760132\n",
      "     \"vain\" -- sim: 0.30971071124076843\n",
      "     \"floor\" -- sim: 0.3090997040271759\n",
      "     \"many\" -- sim: 0.3080742061138153\n",
      "     \"armour\" -- sim: 0.302297979593277\n",
      "     \"breezes\" -- sim: 0.29415205121040344\n",
      "     \"stayed\" -- sim: 0.2930357754230499\n",
      "     \"joy\" -- sim: 0.28899911046028137\n",
      "     \"three\" -- sim: 0.28602224588394165\n",
      "     \"opening\" -- sim: 0.2849712073802948\n"
     ]
    }
   ],
   "source": [
    "#Step 9(c (iii))\n",
    "\n",
    "similarity(10,100,2000)"
   ]
  },
  {
   "cell_type": "code",
   "execution_count": 32,
   "metadata": {
    "collapsed": true
   },
   "outputs": [
    {
     "name": "stdout",
     "output_type": "stream",
     "text": [
      "Most similar words to \"bell\":\n",
      "     \"party\" -- sim: 0.33197125792503357\n",
      "     \"dawned\" -- sim: 0.32194608449935913\n",
      "     \"f\" -- sim: 0.31368133425712585\n",
      "     \"curdken\" -- sim: 0.30459749698638916\n",
      "     \"cry\" -- sim: 0.30387431383132935\n",
      "     \"drop\" -- sim: 0.2950055003166199\n",
      "     \"women\" -- sim: 0.29164060950279236\n",
      "     \"stable\" -- sim: 0.2907787561416626\n",
      "     \"talers\" -- sim: 0.2869738042354584\n",
      "     \"planted\" -- sim: 0.2802666425704956\n",
      "Most similar words to \"silver\":\n",
      "     \"sense\" -- sim: 0.4013127088546753\n",
      "     \"torn\" -- sim: 0.3047332167625427\n",
      "     \"jewels\" -- sim: 0.3018363416194916\n",
      "     \"dancing\" -- sim: 0.30131450295448303\n",
      "     \"imagination\" -- sim: 0.29833486676216125\n",
      "     \"nice\" -- sim: 0.29233577847480774\n",
      "     \"bulk\" -- sim: 0.2922404408454895\n",
      "     \"lamp\" -- sim: 0.28793588280677795\n",
      "     \"sun\" -- sim: 0.28562644124031067\n",
      "     \"smart\" -- sim: 0.2854771018028259\n",
      "Most similar words to \"window\":\n",
      "     \"house\" -- sim: 0.4288135766983032\n",
      "     \"room\" -- sim: 0.38202357292175293\n",
      "     \"door\" -- sim: 0.3384537398815155\n",
      "     \"gates\" -- sim: 0.3371467888355255\n",
      "     \"drain\" -- sim: 0.32348620891571045\n",
      "     \"chaise\" -- sim: 0.3207918703556061\n",
      "     \"lamp\" -- sim: 0.31859612464904785\n",
      "     \"circle\" -- sim: 0.313333123922348\n",
      "     \"evidently\" -- sim: 0.29884567856788635\n",
      "     \"street\" -- sim: 0.2971826195716858\n",
      "Most similar words to \"thank\":\n",
      "     \"additional\" -- sim: 0.373271107673645\n",
      "     \"tell\" -- sim: 0.3519635796546936\n",
      "     \"cost\" -- sim: 0.3385348618030548\n",
      "     \"kindness\" -- sim: 0.33205699920654297\n",
      "     \"tomorrow\" -- sim: 0.3298366665840149\n",
      "     \"do\" -- sim: 0.3276771903038025\n",
      "     \"does\" -- sim: 0.3268163800239563\n",
      "     \"kerchief\" -- sim: 0.3167853355407715\n",
      "     \"whatsoever\" -- sim: 0.31336095929145813\n",
      "     \"overtake\" -- sim: 0.3041332960128784\n",
      "Most similar words to \"copyright\":\n",
      "     \"state\" -- sim: 0.4719471335411072\n",
      "     \"foundation\" -- sim: 0.3910365700721741\n",
      "     \"complying\" -- sim: 0.3644167184829712\n",
      "     \"terms\" -- sim: 0.36381417512893677\n",
      "     \"defect\" -- sim: 0.36091184616088867\n",
      "     \"domain\" -- sim: 0.35729801654815674\n",
      "     \"united\" -- sim: 0.3561286926269531\n",
      "     \"using\" -- sim: 0.3527420163154602\n",
      "     \"tm\" -- sim: 0.3493290841579437\n",
      "     \"necessity\" -- sim: 0.3473963141441345\n",
      "Most similar words to \"bow\":\n",
      "     \"wren\" -- sim: 0.3248600363731384\n",
      "     \"turnip\" -- sim: 0.30571210384368896\n",
      "     \"load\" -- sim: 0.29691052436828613\n",
      "     \"joy\" -- sim: 0.29482540488243103\n",
      "     \"chain\" -- sim: 0.29470914602279663\n",
      "     \"shoot\" -- sim: 0.2887517809867859\n",
      "     \"permission\" -- sim: 0.2822754681110382\n",
      "     \"stomach\" -- sim: 0.27816838026046753\n",
      "     \"enter\" -- sim: 0.27690380811691284\n",
      "     \"start\" -- sim: 0.2758226990699768\n",
      "Most similar words to \"splendid\":\n",
      "     \"beautiful\" -- sim: 0.4149046838283539\n",
      "     \"golden\" -- sim: 0.3391544818878174\n",
      "     \"jorindel\" -- sim: 0.3270842730998993\n",
      "     \"familiar\" -- sim: 0.32170888781547546\n",
      "     \"queer\" -- sim: 0.31100475788116455\n",
      "     \"whirl\" -- sim: 0.29970240592956543\n",
      "     \"jet\" -- sim: 0.29730352759361267\n",
      "     \"changed\" -- sim: 0.2936178147792816\n",
      "     \"older\" -- sim: 0.2865578532218933\n",
      "     \"rising\" -- sim: 0.2853854298591614\n",
      "Most similar words to \"death\":\n",
      "     \"pieces\" -- sim: 0.3884814381599426\n",
      "     \"notice\" -- sim: 0.3503526449203491\n",
      "     \"purpose\" -- sim: 0.33953166007995605\n",
      "     \"within\" -- sim: 0.32515034079551697\n",
      "     \"immediate\" -- sim: 0.29964062571525574\n",
      "     \"save\" -- sim: 0.2932485342025757\n",
      "     \"guest\" -- sim: 0.29085519909858704\n",
      "     \"sick\" -- sim: 0.27524662017822266\n",
      "     \"impossible\" -- sim: 0.2736234962940216\n",
      "     \"beginning\" -- sim: 0.2679639756679535\n",
      "Most similar words to \"dragging\":\n",
      "     \"striding\" -- sim: 0.3738609850406647\n",
      "     \"send\" -- sim: 0.33991628885269165\n",
      "     \"proved\" -- sim: 0.32265201210975647\n",
      "     \"lazy\" -- sim: 0.290715754032135\n",
      "     \"servant\" -- sim: 0.28457003831863403\n",
      "     \"trunk\" -- sim: 0.2803387939929962\n",
      "     \"peering\" -- sim: 0.2736127972602844\n",
      "     \"especially\" -- sim: 0.256462037563324\n",
      "     \"shining\" -- sim: 0.24909517168998718\n",
      "     \"king\" -- sim: 0.2476641833782196\n",
      "Most similar words to \"seven\":\n",
      "     \"three\" -- sim: 0.3524351119995117\n",
      "     \"nine\" -- sim: 0.31893041729927063\n",
      "     \"five\" -- sim: 0.3157254457473755\n",
      "     \"thieves\" -- sim: 0.2941713333129883\n",
      "     \"talked\" -- sim: 0.293901264667511\n",
      "     \"four\" -- sim: 0.2871842384338379\n",
      "     \"project\" -- sim: 0.28590816259384155\n",
      "     \"nuts\" -- sim: 0.2798556387424469\n",
      "     \"nice\" -- sim: 0.27597057819366455\n",
      "     \"looking\" -- sim: 0.2712301015853882\n"
     ]
    }
   ],
   "source": [
    "similarity(5,100,3000)"
   ]
  },
  {
   "cell_type": "markdown",
   "metadata": {},
   "source": [
    "<h1 align = \"center\" >Μέρος 1 </h1>\n",
    "<h1 align = \"center\" >Ορθογράφος </h1>\n",
    "\n",
    "Στο πρώτο μέρος επεκτείνουμε τον ορθογράφο που έχουμε ήδη υλοποιήσει χρησιμοποιώντας character level και word level unigram γλωσσικά μοντέλα, ενώ θα γίνει πειραματισμός και με bigram γλωσσικά μοντέλα. "
   ]
  },
  {
   "cell_type": "markdown",
   "metadata": {},
   "source": [
    "### Βήμα 10\n",
    "Για να βελτιώσουμε την απόδοση του ορθογράφου μας θα πρέπει να πετύχουμε την μέγιστη αξιοποίηση του συνόλου εκπαίδευσης. Για τον σκοπό αυτό εξάγουμε στατιστικά χαρακτηριστικά απο τα δεδομένα και ενσωματώνουμε την πληροφορία αυτή αλλάζοντας τα βάρη του μοντέλου. Οι πηγές στατιστικών θα είναι:\n",
    "* word level: εξάγουμε την πιθανότητα εμφάνισης κάθε λέξης\n",
    "* character level: εξάγουμε την πιθανότητα εμφάνισης κάθε χαρακτήρα\n"
   ]
  },
  {
   "cell_type": "code",
   "execution_count": 28,
   "metadata": {},
   "outputs": [
    {
     "name": "stdout",
     "output_type": "stream",
     "text": [
      "The most probable word in the dictionary: 'the' with probability: 0.05669103134003446\n",
      "Least probable word in the dictionary: 'inhabited' with probability: 3.38554979635918e-06\n"
     ]
    }
   ],
   "source": [
    "#Step 10\n",
    "from collections import Counter\n",
    "\n",
    "word_prob = Counter(text) # Counter returns a dictionary {word: freq} in a fast way\n",
    "word_prob = {word:prob/len(text) for word,prob in word_prob.items()}\n",
    "\n",
    "chars = [char for word in text for char in word]\n",
    "char_prob = Counter(chars)\n",
    "char_prob = {char:prob/len(chars) for char,prob in char_prob.items()}\n",
    "max_prob_word = max(word_prob, key=word_prob.get)\n",
    "min_prob_word = min(word_prob, key=word_prob.get)\n",
    "print(f\"The most probable word in the dictionary: '{max_prob_word}' with probability: {word_prob[max_prob_word]}\")\n",
    "print(f\"Least probable word in the dictionary: '{min_prob_word}' with probability: {word_prob[min_prob_word]}\")\n",
    "\n",
    "\n",
    "\n"
   ]
  },
  {
   "cell_type": "markdown",
   "metadata": {},
   "source": [
    "### Βήμα 11\n",
    "Έχουμε ήδη δουλέψει με την απόσταση **Levenshtein** (ή edit distance). Χρησιμοποιούμε 3 τύπους απο edits: \n",
    "* Εισαγωγή χαρακτήρα \n",
    "* Διαγραφή χαρακτηρα \n",
    "* Αντικατάσταση χαρακτήρα\n",
    "α) Υπολογίζουμε την μέση τιμή των βαρών του word level μοντέλου δηλαδή:\n",
    "\n",
    "$$ W_{word}^{average} = \\sum_{i} \\cdot -log(~p(word_i)~) / |words|$$\n",
    "\n",
    "Τα βάρη δίνονται απο την συνάρτηση $-log(p(x))$ , η οποία διαισθητικά κωδικοποιεί σωστά την πληροφορία, δίνοντας μεγαλύτερο βάρος στα λιγότερο συχνά ενδεχόμενα.\n",
    "Το κόστος των edits για το word-level μοντέλο είναι η μέση τιμή $w  = \\overline{W} $. \n",
    "\n",
    "Εναλλακτικά μπορούμε να υπολογίσουμε την πιθανοτική μέση τιμή των βαρών αν θεωρήσουμε τυχαία μεταβλητή με τιμές τα βάρη και πιθανότητες την πιθανότητα της αντίστοιχης λέξης. Τότε η μέση τιμή των βαρών είναι επίσης η *εντροπία* της κατανομής των λέξεων $p(x), x \\in word~corpus$. \n",
    "\n",
    "$$ \\mathbb{E}[W_{word}] = -\\sum_{i} p(word_i) \\cdot log(~p(word_i)~) $$\n",
    "\n",
    "(β) Κατασκευάζουμε έναν μετατροπέα με μία κατάσταση που υλοποιεί την απόσταση Levenshtein. Για κάθε edit το κόστος είναι $w$, εκτός απο την αντικατάσταση ενός γράμματος με τον εαυτό του που έχει κόστος 0. \n",
    "\n",
    "(γ) Επαναλαμβάνουμε για το unigram γλωσσικό μοντέλο.\n",
    "\n",
    "(δ) Όπως έχουμε αναφέρει αυτός ο τρόπος υπολογισμού των βαρών δεν κωδικοποιεί σημαντική πληροφορία και δεν βελτιώνει την απόδοση του μοντέλου μας.\n",
    "\n",
    "Ιδανικά θα θέλαμε ένα σύνολο labeled δεδομένων της μορφής (original word, wrong spelling). Με αυτό τον τρόπο μπορούμε να εξάγουμε σημαντική πληροφορία βρίσκοντας την πιθανότητα ενός συγκεκριμένου edit. \n",
    "\n",
    "Διαισθητικά δεν είναι όλες οι μετατροπές το ίδιο πιθανές. Για παράδειγμα μια λέξη που ξεκινά απο $a$ είναι σχεδόν αδύνατον να γραφεί λανθασμένα με $z$ (θεωρώντας ρεαλιστικά ανθρώπινα δεδομένα και όχι τυχαίο θωρυβώδες dataset). Θα θέλαμε λοιπόν να υπολογίσουμε την _a priori_ πιθανότητα κάθε edit και αυτήν να κωδικοποιήσουμε στα βάρη μας:\n",
    "\n",
    "$$ Pr[ a\\rightarrow b] = \\frac{|error = b \\rightarrow a|}{|train~samples|}, \\forall a,b \\in \\{A+\\epsilon\\} $$, όπου $A$ το αλφάβητο. \n",
    "\n",
    "Το βάρος για μια συγκεκριμένη διόρθωση Θα πρέπει να είναι αντιστρόφως ανάλογο της πιθανότητας εμφανίσης του αντίστοιχου λάθους. Η ιδιότητα μπορεί να επιτευχθεί με την συνάρτηση  $ -log(p(X)) $ όπου $p(X)$ η συνάρτηση κατανομής πιθανοτήτων.\n",
    "\n"
   ]
  },
  {
   "cell_type": "code",
   "execution_count": 29,
   "metadata": {},
   "outputs": [
    {
     "name": "stdout",
     "output_type": "stream",
     "text": [
      "Average weight for word-level model: 16.366455555062522\n",
      "Average weight for unigram model: 7.803325647790889\n"
     ]
    }
   ],
   "source": [
    "#Step 11(a)\n",
    "import math\n",
    "\n",
    "# We create the weight dictionaries with an elegant dict comprehension..\n",
    "weight_words = {word: -math.log(prob,2) for word,prob in word_prob.items()}\n",
    "weight_chars = {char: -math.log(prob,2) for char,prob in char_prob.items()}\n",
    "\n",
    "avg_weight_words = sum(list(weight_words.values()))/len(list(weight_words.values()))\n",
    "print(f\"Average weight for word-level model: {avg_weight_words}\")\n",
    "\n",
    "avg_weight_chars = sum(list(weight_chars.values()))/len(list(weight_chars.values()))\n",
    "print(f\"Average weight for unigram model: {avg_weight_chars}\")\n"
   ]
  },
  {
   "cell_type": "code",
   "execution_count": 30,
   "metadata": {},
   "outputs": [],
   "source": [
    "#Step 11(b)\n",
    "\n",
    "create_lev(\"lev_word.fst\",alphabet,avg_weight_words)\n",
    "create_lev(\"lev_unigram.fst\",alphabet,avg_weight_chars)"
   ]
  },
  {
   "cell_type": "code",
   "execution_count": 31,
   "metadata": {},
   "outputs": [],
   "source": [
    "!fstcompile --isymbols=chars.syms --osymbols=chars.syms  lev_word.fst lev_word.bin.fst"
   ]
  },
  {
   "cell_type": "code",
   "execution_count": 32,
   "metadata": {},
   "outputs": [],
   "source": [
    "!fstcompile --isymbols=chars.syms --osymbols=chars.syms  lev_unigram.fst lev_unigram.bin.fst"
   ]
  },
  {
   "cell_type": "markdown",
   "metadata": {},
   "source": [
    "### Βήμα 12\n",
    "Κατασκευάζουμε έναν αποδοχέα που αποδέχεται κάθε λέξη του corpus. Για βάρος χρησιμοποιούμε το $-log(P(word))$, δίνοντας στο μοντέλο περισσότερη πληροφορία και βελτιώνωντας το κριτήριο επιλογής λέξης. \n",
    "\n",
    "Ακολουθούμε την διαδικασία τόσο για το unigram όσο και για το word level γλωσσικό μοντέλο. \n",
    "Έχουμε τροποποθήσει την συνάρτηση δημιουργίας αποδοχέα στο βήμα 6 έτσι ώστε να περιλαμβάνει περιπτώσεις για τους διαφορετικούς τύπους μοντέλων: \n",
    "* Simple acceptor (zero weights)\n",
    "* Word level \n",
    "* Unigram\n",
    "* Bigram\n",
    "\n",
    "Στην συνέχεια βελτιστοποιούμε τα μοντέλα με τις _fstdeterminize, fstrmepsilon, fstminimize_.\n"
   ]
  },
  {
   "cell_type": "code",
   "execution_count": 33,
   "metadata": {},
   "outputs": [],
   "source": [
    "\n",
    "create_acceptor(word_corpus,\"acceptor_word.fst\",weight_words,model='Word')\n",
    "create_acceptor(word_corpus,\"acceptor_unigram.fst\",weight_chars,model='Unigram')"
   ]
  },
  {
   "cell_type": "code",
   "execution_count": 34,
   "metadata": {},
   "outputs": [],
   "source": [
    "!fstcompile --isymbols=chars.syms --osymbols=chars.syms  acceptor_word.fst acceptor_word.bin.fst\n",
    "\n",
    "!fstdeterminize acceptor_word.bin.fst acceptor_word.bin.fst\n",
    "!fstrmepsilon acceptor_word.bin.fst acceptor_word.bin.fst\n",
    "!fstminimize acceptor_word.bin.fst acceptor_word.bin.fst"
   ]
  },
  {
   "cell_type": "code",
   "execution_count": 35,
   "metadata": {},
   "outputs": [],
   "source": [
    "!fstcompile --isymbols=chars.syms --osymbols=chars.syms  acceptor_unigram.fst acceptor_unigram.bin.fst\n",
    "\n",
    "!fstdeterminize acceptor_unigram.bin.fst acceptor_unigram.bin.fst\n",
    "!fstrmepsilon acceptor_unigram.bin.fst acceptor_unigram.bin.fst\n",
    "!fstminimize acceptor_unigram.bin.fst acceptor_unigram.bin.fst\n"
   ]
  },
  {
   "cell_type": "markdown",
   "metadata": {},
   "source": [
    "### Βήμα 13\n",
    "Ακολουθώντας την διαδικασία του ερωτήματος 7 θα κατασκευάσουμε ορθογράφο με το word-level γλωσσικό μοντέλο και μετατροπέα, και αντίστοιχα με το unigram μοντέλο και word-level μετατροπέα.\n",
    "\n",
    "Περιμένουμε οι ορθογράφοι αυτοί να έχουν καλύτερη απόδοση απο τον απλοϊκό ορθογράφο του βήματος 7, καθώς κωδικοποιούν πληροφορία και στα βάρη τους. \n",
    "\n",
    "Σημειώνουμε οτι σε όλα τα μοντέλα χρησιμοποιούμε τον word-level μετατροπέα για τον υπολογισμό της Levenshtein απόστασης, όπως δηλώνεται στην εκφώνηση. Εναλλακτικά για χρήση του αντίστοιχου μετατροπέα με το αντίστοιχο μοντέλο είδαμε ότι έχουμε μειωμένη απόδοση. Το αποτέλεσμα είναι λογικό γιατί όπως δείχνουμε παρακάτω το μοντέλο λειτουργεί καλύτερα με αναπαραστάσεις σε επίπεδο λέξεων."
   ]
  },
  {
   "cell_type": "code",
   "execution_count": 36,
   "metadata": {},
   "outputs": [],
   "source": [
    "#Step 13(a)\n",
    "\n",
    "!fstarcsort --sort_type=olabel lev_word.bin.fst lev_word.bin.fst\n",
    "!fstcompose  lev_word.bin.fst acceptor_word.bin.fst spell_checker_word.bin.fst"
   ]
  },
  {
   "cell_type": "code",
   "execution_count": 37,
   "metadata": {},
   "outputs": [],
   "source": [
    "#Step 13(b)\n",
    "\n",
    "\n",
    "!fstcompose  lev_word.bin.fst acceptor_unigram.bin.fst spell_checker_unigram.bin.fst\n",
    "#!fstarcsort --sort_type=olabel lev_unigram.bin.fst lev_unigram.bin.fst\n",
    "#!fstcompose  lev_unigram.bin.fst acceptor_unigram.bin.fst spell_checker_unigram.bin.fst\n",
    "\n"
   ]
  },
  {
   "cell_type": "code",
   "execution_count": 38,
   "metadata": {},
   "outputs": [
    {
     "name": "stdout",
     "output_type": "stream",
     "text": [
      "Min distance prediction for ['cit'] is: \n",
      "it"
     ]
    }
   ],
   "source": [
    "#Step 13(c)\n",
    "# We repeat the process in step 7.. \n",
    "\n",
    "\n",
    "word = ['cit']\n",
    "create_acceptor(word,\"in.fst\")\n",
    "\n",
    "# Word-level model\n",
    "!fstcompile  --isymbols=chars.syms --osymbols=chars.syms in.fst in.bin.fst\n",
    "!fstarcsort --sort_type=ilabel spell_checker_word.bin.fst spell_checker_word.bin.fst \n",
    "!fstarcsort --sort_type=olabel in.bin.fst in.bin.fst \n",
    "\n",
    "print(f\"Min distance prediction for {word} is: \")\n",
    "!fstcompose in.bin.fst spell_checker_word.bin.fst |fstshortestpath --nshortest=1 \\\n",
    "| fstrmepsilon |  fsttopsort |fstprint -isymbols=chars.syms  -osymbols=chars.syms\\\n",
    "| cut -f4 | grep -v \"<epsilon>\" |head -n -1 | tr -d '\\n'\n",
    "\n"
   ]
  },
  {
   "cell_type": "code",
   "execution_count": 39,
   "metadata": {},
   "outputs": [
    {
     "name": "stdout",
     "output_type": "stream",
     "text": [
      "Min distance prediction for ['cit'] is: \n",
      "it"
     ]
    }
   ],
   "source": [
    "# Unigram model\n",
    "!fstcompile  --isymbols=chars.syms --osymbols=chars.syms   in.fst in.bin.fst\n",
    "!fstarcsort --sort_type=ilabel spell_checker_unigram.bin.fst spell_checker_unigram.bin.fst \n",
    "!fstarcsort --sort_type=olabel in.bin.fst in.bin.fst \n",
    "\n",
    "print(f\"Min distance prediction for {word} is: \")\n",
    "!fstcompose in.bin.fst spell_checker_unigram.bin.fst |fstshortestpath --nshortest=1 \\\n",
    "| fstrmepsilon |  fsttopsort |fstprint -isymbols=chars.syms  -osymbols=chars.syms\\\n",
    "| cut -f4 | grep -v \"<epsilon>\" |head -n -1 | tr -d '\\n'\n",
    "\n"
   ]
  },
  {
   "cell_type": "markdown",
   "metadata": {},
   "source": [
    "(γ) Οι δύο ορθογράφοι που δημιουργήσαμε έχουν ίδια αρχή λειτουργίας και αντιμετωπίζουν παρόμοια προβλήματα. Συγκεκριμένα η εκτίμηση τους είναι η λέξη με την ελάχιστη Levenhstein απόσταση απο την λέξη εισόδου. Η διαφορά είναι οτι στο word-level μοντέλο η επιλογή σταθμίζεται απο το βάρος της λέξης που τελικά επιλέγουμε, ενώ στο unigram μοντέλο σταθμίζεται αντιστοιχα κάθε επιλογή χαρακτήρα.\n",
    "\n",
    "Το μοντέλο επηρεάζεται σημαντικά απο το περιορισμένο λεξιλόγιο του, έτσι αν δεν γνωρίζει την ύπαρξη μίας λέξης δεν μπορεί να διορθώσει σε αυτή. Αυτός είναι ένας λογικός περιορισμός και διορθώνεται με την αύξηση των train δεδομένων. \n",
    "\n",
    "Το δεύτερο σημαντικό ελάττωμα του μοντέλου είναι οτι δεν διαθέτει αρκετά καλο κριτήριο για την επιλογή λέξεων σε περίπτωση ισοπαλίας. Αυτό έχει σε έναν βαθμό διορθωθεί με την χρήση στατιστικών στοιχείων στα παραπάνω 2 μοντέλα. \n",
    "\n",
    "Η αμφισημία προκύπτει γιατί για μία λέξη όπως το 'cit' υπάρχουν πολλές πιθανές λέξεις διόρθωσης, όπως έχουμε ήδη δέιξει. Παρ' όλα αυτά και τα δύο μοντέλα (word-level, unigram) κρίνουν ώς την πιο πιθανή λέξη την λέξη it. \n"
   ]
  },
  {
   "cell_type": "markdown",
   "metadata": {},
   "source": [
    "### Βήμα 14\n",
    "Θα αξιολογήσουμε τους δύο ορθογράφους που δημιουργήσαμε πάνω στο spell checker test set που είχαμε δεί στο βήμα 8. Θα χρησιμοποιήσουμε την συνάρτηση που ήδη έχουμε γράψει στο βήμα 8. \n",
    "\n",
    "Χωρίζουμε το σύνολο δεδομένων αξιολόγησης σε _X_test, y_test_ που αποτελούν _270_  ζεύγη της μορφής: (correct spelling, wrong spelling). Πάνω σε αυτα υπολογίζουμε το accuracy για κάθε μοντέλο.\n"
   ]
  },
  {
   "cell_type": "code",
   "execution_count": 40,
   "metadata": {
    "scrolled": false
   },
   "outputs": [
    {
     "name": "stdout",
     "output_type": "stream",
     "text": [
      "spell_checker.bin.fst-accuracy:0.5925925925925926%\n",
      "spell_checker_word.bin.fst-accuracy:0.6185185185185185%\n",
      "spell_checker_unigram.bin.fst-accuracy:0.5370370370370371%\n"
     ]
    }
   ],
   "source": [
    "#Too slow, need help :'( \n",
    "predict(y_test,X_test,\"spell_checker.bin.fst\",Show = False)\n",
    "predict(y_test,X_test,\"spell_checker_word.bin.fst\",Show = False)\n",
    "predict(y_test,X_test,\"spell_checker_unigram.bin.fst\",Show = False)"
   ]
  },
  {
   "cell_type": "markdown",
   "metadata": {},
   "source": [
    "**Spell checker Simple**: Το αρχικό μοντέλο δεν περιέχει καμία πληροφορία στα βάρη του, όμως έχει αρκετά καλη απόδοση **0.592 %**. Το μοντέλο μπορεί να προβλέψει με ακρίβεια σπάνιες λέξεις που ήδη γνωρίζει, ή μεγάλες σε μήκος λέξεις που είναι δύσκολο να μπερδευτούν με άλλες. \n",
    "\n",
    "**Spell checker Word Level**: Το μοντέλο με βάρη βασισμένα στην πιθανότητα εμφάνισης λέξεων έχει την καλύτερη απόδοση **0.618 %**. Απο αυτό συμπεραίνουμε οτι αναπαραστάσεις σε επίπεδο λέξεων κωδικοποιούν καλύτερα την πληροφορία. Συγκεκριμένα ειναι καλύτερα το μοντέλο να ψάχνει ένα token-λέξη που έχει την ελάχιστη απόσταση με βάση την a priori γνώση του, παρά να προσπαθεί κάθε φορά να μαντέψει τον πιο πιθανό χαρακτήρα. \n",
    "\n",
    "**Spell Checker Unigram**: Η unigram αναπαράσταση είχε την μικρότερη ακρίβεια **0.537**, και όπως είπαμε τα βάρη ανα χαρακτήρα αποπροσανατολίζουν το μοντέλο και δεν επιλέγει σωστά. Σημειώνουμε οτι για unigram μετατροπέα το μοντέλο είχε ακρίβεια ~32%.\n",
    "\n",
    "\n"
   ]
  },
  {
   "cell_type": "markdown",
   "metadata": {},
   "source": [
    "### Βήμα 15\n",
    "Θα εκτελέσουμε τα προηγούμενα βήματα για ενα Bigram γλωσσικό μοντέλο.\n",
    "Το bigram γλωσσικό μοντέλο ανήκει στην ευρύτερη κλάση των n-gram μοντέλων και προκύπτει για n = 2. Με τον όρο n-gram αναφερόμαστε σε μία συνεχή ακολουθία n αντικειμένων απο ένα δείγμα φωνής ή κειμένου Συγκεκριμένα στο πλάισιο των λέξεων ένα n-gram γλωσσικό μοντέλο χρησιμοποιεί ακολουθίες n χαρακτήρων για να προβλέψει το επόμενο γράμμα. Η πρόβλεψη βασίζεται σε (n-1)-order αλυσίδα markov (δηλαδή ισχύει η μαρκοβιανή ιδιότητα αλλα η εξάρτηση σταματάει στα n προηγούμενα δείγματα). \n",
    "\n",
    "$$ \\mathbb{P}[x_i|x_{i-1},x_{i-2},...,x_0] = \\mathbb{P}[x_i|x_{i-1},x_{i-2},...,x_{i-(n-1)}] $$ \n",
    "\n",
    "Δυο πλεονεκτήματα τους ειναι:\n",
    "* Η απλότητα\n",
    "* Η κλιμακωσιμότητα\n",
    "\n",
    "Για το bigram μοντέλο αρκεί να υπολογίσουμε τις πιθανότητες:\n",
    "\n",
    "$$ \\mathbb{P}[x_i|x_{i-1}] $$\n",
    "για κάθε ζεύγος στο αλφάβητο μας (συν το $\\epsilon$).\n",
    "\n",
    "\n",
    "Στο παρακάτω κελί υπολογίζουμε με παρόμοιο τρόπο τις πιθανότητες εμφάνισης για κάθε bigram. Συγκεκριμένα έχουμε επαυξήσει κάθε λέξη του συνόλου ώστε να αρχίζει απο το κενό, αυτή είναι η πιθανότητα να επιλεγεί το γράμμα απο το οποίο αρχίζει η λέξη χωρίς να έχει προηγηθεί κάποιο άλλο. Έπειτα υπολογίζουμε τα κατάλληλα βάρη και υλοποιούμε τον μετατροπέα και τον αποδοχέα για να τους συνδυάσουμε στον bigram spell checker. \n"
   ]
  },
  {
   "cell_type": "code",
   "execution_count": 41,
   "metadata": {
    "scrolled": true
   },
   "outputs": [],
   "source": [
    "extended_text = [ \" \" + word for word in text] # \" \" symbolizes epsilon, for bigrams like (<epsilon>,a)\"\n",
    "bigrams = [(char1,char2) for word in extended_text for char1,char2 in zip(word,word[1:])]\n",
    "bigram_prob = Counter(bigrams)\n",
    "bigram_prob = {bigram:prob/len(bigrams) for bigram,prob in bigram_prob.items()}\n",
    "\n",
    "weight_bigrams =  {bigram: -math.log(prob,2) for bigram,prob in bigram_prob.items()}\n",
    "avg_weight_bigrams = sum(list(weight_bigrams.values()))/len(list(weight_bigrams.values()))\n",
    "\n"
   ]
  },
  {
   "cell_type": "code",
   "execution_count": 42,
   "metadata": {
    "scrolled": true
   },
   "outputs": [
    {
     "name": "stdout",
     "output_type": "stream",
     "text": [
      "spell_checker_bigram.bin.fst-accuracy:0.3814814814814815%\n"
     ]
    }
   ],
   "source": [
    "create_lev(\"lev_bigram.fst\",alphabet,avg_weight_bigrams)\n",
    "!fstcompile --isymbols=chars.syms --osymbols=chars.syms  lev_bigram.fst lev_bigram.bin.fst\n",
    "\n",
    "create_acceptor(word_corpus,\"acceptor_bigram.fst\",weight_bigrams,model='Bigram')\n",
    "\n",
    "!fstcompile --isymbols=chars.syms --osymbols=chars.syms  acceptor_bigram.fst acceptor_bigram.bin.fst\n",
    "\n",
    "!fstdeterminize acceptor_bigram.bin.fst acceptor_bigram.bin.fst\n",
    "!fstrmepsilon acceptor_bigram.bin.fst acceptor_bigram.bin.fst\n",
    "!fstminimize acceptor_bigram.bin.fst acceptor_bigram.bin.fst\n",
    "\n",
    "\n",
    "!fstarcsort --sort_type=olabel lev_word.bin.fst lev_word.bin.fst\n",
    "#!fstarcsort --sort_type=olabel lev_bigram.bin.fst lev_bigram.bin.fst\n",
    "\n",
    "!fstcompose  lev_word.bin.fst acceptor_bigram.bin.fst spell_checker_bigram.bin.fst\n",
    "#!fstcompose  lev_bigram.bin.fst acceptor_bigram.bin.fst spell_checker_bigram.bin.fst\n",
    "\n",
    "!fstdeterminize acceptor_bigram.bin.fst acceptor_bigram.bin.fst\n",
    "!fstrmepsilon acceptor_bigram.bin.fst acceptor_bigram.bin.fst\n",
    "!fstminimize acceptor_bigram.bin.fst acceptor_bigram.bin.fst\n",
    "\n",
    "\n",
    "predict(y_test,X_test,\"spell_checker_bigram.bin.fst\",Show = False)"
   ]
  },
  {
   "cell_type": "markdown",
   "metadata": {},
   "source": [
    "Παρατηρούμε οτι με το bigram μοντέλο η ακρίβεια πάνω στο test set έπεσε στο **_0.381%_**. Αυτο επιβεβαιώνει την αντίληψη μας ότι μοντέλα βασισμένα σε χαρακτήρες δεν λειτουργούν καλά για το συγκεκριμένο πρόβλημα, και μία προσέγγιση με στοιχεία λέξεις θα έχει πολυ καλύτερα αποτελέσματα.\n",
    "\n",
    "Παρακάτω ελέγχουμε τους ορθογράφους σε τυχαίο σύνολο δεδομένων:"
   ]
  },
  {
   "cell_type": "code",
   "execution_count": 43,
   "metadata": {
    "scrolled": true
   },
   "outputs": [
    {
     "name": "stdout",
     "output_type": "stream",
     "text": [
      "spell_checker.bin.fst-accuracy:0.6%\n",
      "spell_checker_word.bin.fst-accuracy:0.6%\n",
      "spell_checker_unigram.bin.fst-accuracy:0.5%\n",
      "spell_checker_bigram.bin.fst-accuracy:0.45%\n"
     ]
    }
   ],
   "source": [
    "idxs = random.sample(range(0, len(y_test)), 20)\n",
    "X_rand = [X_test[i] for i in idxs]\n",
    "Y_rand = [y_test[i] for i in idxs]\n",
    "\n",
    "predict(Y_rand,X_rand,\"spell_checker.bin.fst\",Show = False)\n",
    "predict(Y_rand,X_rand,\"spell_checker_word.bin.fst\",Show = False)\n",
    "predict(Y_rand,X_rand,\"spell_checker_unigram.bin.fst\",Show = False)\n",
    "predict(Y_rand,X_rand,\"spell_checker_bigram.bin.fst\",Show = False)\n"
   ]
  },
  {
   "cell_type": "markdown",
   "metadata": {},
   "source": [
    "<h1 align = \"center\">ΜΕΡΟΣ 2</h1>\n",
    "\n",
    "<h3 align = \"center\">Χρήση σημασιολογικών αναπαραστάσεων για ανάλυση συναισθήματος.</h3>\n",
    "\n",
    "Στο δεύτερο αυτό μέρος θα αξιολογήσουμε διάφορα μοντέλα και λεκτικές αναπαραστάσεις (embeddings) για το πρόβλημα της αναγνώρισης συναισθήματος. Θα χρησιμοποιήσουμε την γνωστή βάση δεδομένων απο reviews της _IMDB_ , και θα ταξινομήσουμε τις κριτικές σε θετικές και αρνητικές με βάση το συναίσθημα. "
   ]
  },
  {
   "cell_type": "markdown",
   "metadata": {},
   "source": [
    "### Βήμα 16\n",
    "Κατεβάζουμε τα δεδομένα κριτικών απο το Stanford. Για την επεξεργασία τους χρησιμοποιούμε τον προτινώμενο κώδικα. "
   ]
  },
  {
   "cell_type": "code",
   "execution_count": 44,
   "metadata": {},
   "outputs": [],
   "source": [
    "#Step 16(a)\n",
    "\n",
    "#!wget -P ./data/ http://ai.stanford.edu/~amaas/data/sentiment/aclImdb_v1.tar.gz"
   ]
  },
  {
   "cell_type": "code",
   "execution_count": 45,
   "metadata": {},
   "outputs": [],
   "source": [
    "#Step 16(b)\n",
    "\n",
    "import os\n",
    "\n",
    "data_dir = './data/aclImdb_v1/aclImdb/'\n",
    "train_dir = os.path.join(data_dir, 'train')\n",
    "test_dir = os.path.join(data_dir, 'test')\n",
    "pos_train_dir = os.path.join(train_dir, 'pos')\n",
    "neg_train_dir = os.path.join(train_dir, 'neg')\n",
    "pos_test_dir = os.path.join(test_dir, 'pos')\n",
    "neg_test_dir = os.path.join(test_dir, 'neg')\n",
    "\n",
    "# For memory limitations. These parameters fit in 8GB of RAM.\n",
    "# If you have 16G of RAM you can experiment with the full dataset / W2V\n",
    "MAX_NUM_SAMPLES = 5000\n",
    "# Load first 1M word embeddings. This works because GoogleNews are roughly\n",
    "# sorted from most frequent to least frequent.\n",
    "# It may yield much worse results for other embeddings corpora\n",
    "NUM_W2V_TO_LOAD = 1000000\n",
    "\n",
    "import numpy as np\n",
    "\n",
    "SEED = 42\n",
    "\n",
    "# Fix numpy random seed for reproducibility\n",
    "np.random.seed(42)\n",
    "\n",
    "try:\n",
    "    import glob2 as glob\n",
    "except ImportError:\n",
    "    import glob\n",
    "\n",
    "import re\n",
    "\n",
    "def strip_punctuation(s):\n",
    "    return re.sub(r'[^a-zA-Z\\s]', ' ', s)\n",
    "\n",
    "def preprocess(s):\n",
    "    return re.sub('\\s+',' ', strip_punctuation(s).lower())\n",
    "\n",
    "def tokenize(s):\n",
    "    return s.split(' ')\n",
    "\n",
    "def preproc_tok(s):\n",
    "    return tokenize(preprocess(s))\n",
    "\n",
    "def read_samples(folder, preprocess=lambda x: x):\n",
    "    samples = glob.iglob(os.path.join(folder, '*.txt'))\n",
    "    data = []\n",
    "    for i, sample in enumerate(samples):\n",
    "        if MAX_NUM_SAMPLES > 0 and i == MAX_NUM_SAMPLES:\n",
    "            break\n",
    "        with open(sample, 'r') as fd:\n",
    "            x = [preprocess(l) for l in fd][0]\n",
    "            data.append(x)\n",
    "    return data\n",
    "\n",
    "def create_corpus(pos, neg):\n",
    "    corpus = np.array(pos + neg)\n",
    "    y = np.array([1 for _ in pos] + [0 for _ in neg])\n",
    "    indices = np.arange(y.shape[0])\n",
    "    np.random.shuffle(indices)\n",
    "    return list(corpus[indices]), list(y[indices])"
   ]
  },
  {
   "cell_type": "code",
   "execution_count": 46,
   "metadata": {},
   "outputs": [],
   "source": [
    "#Step 16(b)\n",
    "\n",
    "(X_train,y_train) = create_corpus(read_samples(pos_train_dir),read_samples(neg_train_dir))\n",
    "(X_test,y_test) = create_corpus(read_samples(pos_test_dir),read_samples(neg_test_dir))"
   ]
  },
  {
   "cell_type": "markdown",
   "metadata": {},
   "source": [
    "### Βήμα 17\n",
    "\n",
    "\n",
    "Μια απλοϊκή αναπαράσταση για μία πρόταση ειναι η _Bag of Words_. Με βάση αυτή κάθε λέξη κωδικοποιείται σαν ένα _one hot encoding_ πάνω στο λεξιλόγειο. Δηλαδή ένα διάνυσμα (μεγέθους ίσου με το λεξικό) με '1' στην θέση που αντιστοιχεί στην λέξη και '0' σε όλες τις άλλες.  Η αναπάσταση της πρότασης ειναι απλά το διανυσματικό άθροισμα των one hot encodings των λέξεων της. Μία τέτοια προσέγγιση είναι μη αποδοτική καθώς ειναι ιδιαίτερα _sparse_ , απαιτώντας πολυ μνήμη χωρίς να έχουμε κάποιο πλεονέκτημα (πέραν της απλότητας). \n",
    "\n",
    "Μία βελτίωση του _BoW_ μοντέλου είναι το σταθμισμένο άθροισμα των one-hot vectors. Κάτι τέτοιο μπορεί να γίνει με βάρη **TF-IDF**\n",
    "\n",
    "Το TF-IDF αποτελείται από 2 όρους. Ο πρώτος είναι το **Term Frequency (TF)**:\n",
    "\n",
    "$$ tf(i,d) = \\frac{f(i,d)}{\\sum_{i} f(i,d)}$$\n",
    "\n",
    "Όπου *i* ο όρος στο κείμενο *d*. Το tf είναι στην ουσία η συχνότητα με την οποία εμφανίζεται ο κάθε όρος στο κείμενο. Λέξεις με μεγάλη συχνότητα είναι σημαντικότερες για το κείμενο από ότι οι λέξεις με μικρή συχνότητα.\n",
    "\n",
    "Ο δεύτερος όρος στο TF-IDF είναι το **Inverse Document Frequency**:\n",
    "\n",
    "$$ idf(i) = log \\frac{N}{df(i)}$$\n",
    "\n",
    "Όπου *Ν* ο αριθμός των κειμένων και *df(i)* ο αριθμός των κειμένων στους οποίους εμφανίζεται ο όρος *i*. Το idf είναι ένας δείκτης της πληροφορίας που δίνει η κάθε λέξη. Αν η λέξη εμφανίζεται σε όλα τα κείμενα τότε αυτή δε δίνει καθόλου πληροφορία και το κλάσμα θα λάβει τιμή 1, και απο τον λογάριθμ θα μετατραπεί στην τιμή 0. Σε όσο πιο λίγα κείμενα εμφανίζεται η λέξη τόσο περισσότερη πληροφορία έχει, και τόσο πιο σημαντική είναι η εμφάνιση της. Αυτό αντιστοιχεί γενικά στην έννοια της πληροφορίας κατα Shannon, και συγκεκριμένα τα _TF-IDF_ συνδέονται με την απο κοινού πληροφορία των κειμένων. \n",
    "\n",
    "Υπάρχουν διάφορες παραλλαγές για τον υπολογισμό των βαρών  εμείς χρησιμοποιούμε την πιο απλή. \n",
    "\n",
    "\n",
    "Το TF-IDF υπολογίζεται τελικά ως το γινόμενο των δύο όρων:\n",
    "\n",
    "$$ tf\\text{-}idf(i) = tf(i,d) \\cdot idf(i)$$\n",
    "\n",
    "Άρα, αν το γινόμενο TF-IDF είναι υψηλό, τότε η λέξη i είναι σημαντική πληρορορία στο κείμενο d αφού η λέξη αυτή εμφανίζεται πολλές φορές στο κείμενο και δεν εμφανίζεται σε πολλά από τα Ν κείμενα που που εξετάζονται."
   ]
  },
  {
   "cell_type": "markdown",
   "metadata": {},
   "source": [
    "***Βήμα 17 (β, γ, δ)***\n",
    "\n",
    "Σε αυτά τα βήματα θα χρησιμοποιήσουμε τον transformer CountVectorizer του sklearn για την εξαγωγή μη σταθμισμένων BOW αναπαραστάσεων και θα εκπαιδεύσουμε τον ταξινομητή LogisticRegression για να ταξινομήσουμε τα σχόλια σε θετικά και αρνητικά. \n",
    "\n",
    "O **CountVectorizer** μετατρέπει μία συλλογή από κείμενα σε έναν πίνακα στον οποίο αποθηκεύεται ο αριθμός εμφάνισης των tokens. Αυτή η υλοποιήση παράγει μία αραιή αναπαράσταση του αριθμού εφάνισης των tokens χρησιμοποιώντας το scipy.sparse.csr_matrix.\n",
    "\n",
    "Ο **TfidfVectorizer** μετατρέπει μια συλλογή από μη επεξεργασμένα κείμενα σε έναν πίνακα με τις TF-IDF τιμές των tokens. Είναι ισοδύναμος με τον CountVectorizer αλλά χρησιμοποιεί έναν TfidfTransformer. Ο TfidfTransformer υπολογίζει τα γινόμενα TF-IDF για κάθε token του κειμένου.\n",
    "\n",
    "Ο **Logistic Regression** ταξινομητής χρησιμοποιείται για να μοντελοποιήσουμε την πιθανότητα να επιλεγεί μια συγκεκριμένη κλάση ή να συμβεί ένα γεγονός. Μπορεί να χρησιμοποιήθεί για την κατηγοριοποίηση κλάσεων σε δύο κατηγορίες όπως θετικές και αρνητικές αρνητικές κριτικές, είτε για την κατηγοριοποίηση κλάσεων σε περισσότερες από δύο κατηγορίες. Μπορεί να θεωρηθεί μια ειδική μέθοδος γραμμικής παλινδρομησης, όπου προβλέπουμε την πιθανότητα κάνωντας fit σε μια logistic συνάρτηση (δηλαδή ενα σιγμοειδές)\n",
    "\n",
    "![logistic-regression](http://juangabrielgomila.com/wp-content/uploads/2015/04/LogReg_1.png)\n",
    "\n"
   ]
  },
  {
   "cell_type": "code",
   "execution_count": 47,
   "metadata": {},
   "outputs": [],
   "source": [
    "#Step 17(b)\n",
    "\n",
    "#import libraries\n",
    "from sklearn.feature_extraction.text import CountVectorizer\n",
    "from sklearn.linear_model import LogisticRegression\n",
    "from sklearn.feature_extraction.text import TfidfVectorizer"
   ]
  },
  {
   "cell_type": "code",
   "execution_count": 48,
   "metadata": {},
   "outputs": [],
   "source": [
    "#Step 17(b,c)\n",
    "#Count Vectorizer\n",
    "\n",
    "vectorizer = CountVectorizer()\n",
    "# X_train_BOW_C[i] is the bag of words CountVectorizer representation for the i-th comment\n",
    "X_train_BOW_C = vectorizer.fit_transform(X_train)\n",
    "vectorizer_test_C = CountVectorizer(vocabulary = vectorizer.get_feature_names())\n",
    "X_test_BOW_C = vectorizer_test_C.fit_transform(X_test)\n",
    "LG_C = LogisticRegression(random_state=0, multi_class = 'ovr', solver = 'liblinear',penalty = 'l2')\n",
    "xx_C = LG_C.fit(X_train_BOW_C,y_train)\n"
   ]
  },
  {
   "cell_type": "code",
   "execution_count": 49,
   "metadata": {},
   "outputs": [],
   "source": [
    "#Step 17(d)\n",
    "\n",
    "vectorizer = TfidfVectorizer()\n",
    "# X_train_BOW_T[i] is the bag of words TfidfVectorizer representation for the i-th comment\n",
    "X_train_BOW_T = vectorizer.fit_transform(X_train)\n",
    "vectorizer_test_T = TfidfVectorizer(vocabulary = vectorizer.get_feature_names())\n",
    "X_test_BOW_T = vectorizer_test_T.fit_transform(X_test)\n",
    "LG_T = LogisticRegression(random_state=0, multi_class = 'ovr', solver = 'liblinear',penalty = 'l2')\n",
    "xx_T = LG_T.fit(X_train_BOW_T,y_train)\n"
   ]
  },
  {
   "cell_type": "markdown",
   "metadata": {},
   "source": [
    "***Σύγκριση αποτελεσμάτων*** \n",
    "\n",
    "Συγκρίνοντας τα αποτελέσματα των δύο Vectorizer() παρατηρούμε ότι τα δύο ποσοστά έχουν πολύ μιρκή διαφορά. Καλύτερη ακρίβεια έχει ο TfidfVectorizer. Αυτό συμβαίνει γιατί η χρήση tf-idf συχνοτήτων συμβάλλει στην μείωση της επίδρασης των tokens που εμφανίζονται πολύ συχνά στο κείμενο. Όπως είπαμε και παραπάνω, τα tokens αυτά δεν δίνουν τόση πληροφορία για το κείμενο όσο οι λέξεις που εμφανίζονται λιγότερο και για αυτό είναι καλύτερα να μην λαμβάνονται υπόψιν κατά τη διαδικασία του classification. \n"
   ]
  },
  {
   "cell_type": "code",
   "execution_count": 50,
   "metadata": {},
   "outputs": [
    {
     "name": "stdout",
     "output_type": "stream",
     "text": [
      "The accuracy of the Count Vectorizer is: 0.8621\n",
      "The accuracy of the Tfidf Vectorizer is: 0.8697\n"
     ]
    }
   ],
   "source": [
    "#Step 17(d)\n",
    "\n",
    "acc_vec = 0\n",
    "for sample,label in zip(X_test_BOW_C,y_test):\n",
    "    if xx_C.predict(sample) == label:\n",
    "        acc_vec+=1\n",
    "print(f'The accuracy of the Count Vectorizer is: {acc_vec/len(X_test)}')\n",
    "\n",
    "acc_tfidf = 0\n",
    "for sample,label in zip(X_test_BOW_T,y_test):\n",
    "    if xx_T.predict(sample) == label:\n",
    "        acc_tfidf+=1\n",
    "print(f'The accuracy of the Tfidf Vectorizer is: {acc_tfidf/len(X_test)}')"
   ]
  },
  {
   "cell_type": "markdown",
   "metadata": {},
   "source": [
    "### Βήμα18 \n",
    "\n",
    "Οι λέξεις μπορούν να αναπαρασταθούν και απο προεκπαιδευμένα embeddings. Όπως τα word2vec embeddings που έχουμε δει σε προηγούμενα ερωτήματα .Αυτά τα embeddings προκύπτουν από ένα νευρωνικό δίκτυο με ένα layer. Υπάρχουν δύο διαφορετικές προσεγγίσεις με παρόμοια αποτελέσματα. \n",
    "\n",
    "Στην πρώτη το νευρωνικό δίκτυο το οποίο καλείται να προβλέψει μια λέξη με βάση το context της, ένα κυλιόμενο παράθυρο το μέγεθος του οποίο αποτελεί παράμετρο του μοντέλου. Αυτο αποτελεί το **CBOW** μοντέλο. Στην δεύτερη το δίκτυο καλείται να προβλέψει το context με βάση τη λέξη . Και αυτο αποτελεί το **Skip-gram** μοντέλο. \n",
    "\n",
    "Τα word2vec vectors είναι πυκνές (dense) αναπαραστάσεις σε λιγότερες διαστάσεις από τις BOW και κωδικοποιούν σημασιολογικά χαρακτηριστικά μιας λέξης με βάση την υπόθεση ότι λέξεις με παρόμοιο νόημα εμφανίζονται σε παρόμοιες θέσεις στο κείμενο. Μια πρόταση μπορεί να αναπαρασταθεί ως ο μέσος όρος των w2v διανυσμάτων κάθε λέξης που περιέχει, για λέξεις που δνε υπάρχουν προσθέτουμε το μηδενικό διάνυσμα, η τεχνική αυτή ονομάζεται **Neural Bag of Words**."
   ]
  },
  {
   "cell_type": "markdown",
   "metadata": {},
   "source": [
    "\n",
    "\n",
    "Σε αυτό το βήμα υπολογίσαμε το ποσοστό των out of vocabulary (OOV) words για τις αναπαραστάσεις που υπολογίσαμε στο Βήμα 9. Το ποσοστό που ζητείται δίνεται από τον τύπο \n",
    "$$ OOV =\\frac{\\text{|unique words in $X_{train}$| - |unique words in word2vec|}}{\\text{|unique words in $X_{train}$|}}$$ "
   ]
  },
  {
   "cell_type": "code",
   "execution_count": 51,
   "metadata": {},
   "outputs": [
    {
     "name": "stdout",
     "output_type": "stream",
     "text": [
      "The percentage of OOV is: 95.41862993838348 %\n"
     ]
    }
   ],
   "source": [
    "#Step 18(a)\n",
    "#OOV words\n",
    "\n",
    "critics_words = []\n",
    "for critic in X_train:\n",
    "    critics_words += nltk.word_tokenize(critic)\n",
    "\n",
    "critics_corpus = set(critics_words)\n",
    "w2vec_corpus = set(voc)\n",
    "OOV = critics_corpus.difference(w2vec_corpus)\n",
    "# We compute out of Voc words as a set difference\n",
    "    \n",
    "    \n",
    "print(f'The percentage of OOV is: {100*float(len(OOV))/len(critics_corpus)} %')"
   ]
  },
  {
   "cell_type": "markdown",
   "metadata": {},
   "source": [
    "(β)\n",
    "Σε αυτό το βήμα θα χρησιμοποιήσουμε τα embeddings που προκύπτουν από το word_corpus που δημιουργήσαμε από τα τρία βιβλία που αναφέρονται στην αρχή  για την κατασκευή Neural Bag of Words αναπαραστάσεων για κάθε σχόλιο στο corpus( κριτικές από το IMDB) και θα εκπαιδεύσουμε ένα Logistic Regression μοντέλο για ταξινόμηση των κριτικών σε θετικές και αρνητικές. "
   ]
  },
  {
   "cell_type": "code",
   "execution_count": 52,
   "metadata": {},
   "outputs": [],
   "source": [
    "#Step 18(b)\n",
    "\n",
    "import numpy as np\n",
    "\n",
    "# Convert to numpy 2d array (n_vocab x vector_size)\n",
    "def to_embeddings_Matrix(model):  \n",
    "    embedding_matrix = np.zeros((len(model.wv.vocab), model.vector_size))\n",
    "    word2idx = {}\n",
    "    for i in range(len(model.wv.vocab)):\n",
    "        embedding_matrix[i] = model.wv[model.wv.index2word[i]]\n",
    "        word2idx[model.wv.index2word[i]] = i\n",
    "    return embedding_matrix, model.wv.index2word, word2idx\n",
    "\n",
    "(embedding_matrix, model.wv.index2word, word2idx) = to_embeddings_Matrix(model)"
   ]
  },
  {
   "cell_type": "code",
   "execution_count": 53,
   "metadata": {},
   "outputs": [],
   "source": [
    "#Step 18(b)\n",
    "#Neural Bag of Words for movie critics\n",
    "\n",
    "#for every critic in test and train sets we create an Neural bag of words representation\n",
    "#by adding the embeddings for the words in the critic and dividing by the length of it\n",
    "    \n",
    "train = np.zeros((len(X_train),model.vector_size))\n",
    "count_c = 0                      \n",
    "for critic in X_train:\n",
    "    critic = nltk.word_tokenize(critic)\n",
    "    for word in critic:\n",
    "        if word in word2idx.keys():\n",
    "            i = word2idx[word]\n",
    "            train[count_c] += embedding_matrix[i]\n",
    "    train[count_c] /= len(critic)\n",
    "    count_c += 1\n",
    "                    \n",
    "\n",
    "test = np.zeros((len(X_test),model.vector_size))   \n",
    "count_c = 0      \n",
    "for critic in X_test:\n",
    "    critic = nltk.word_tokenize(critic)\n",
    "    for word in critic:\n",
    "        if word in word2idx.keys():\n",
    "            i = word2idx[word]\n",
    "            test[count_c] += embedding_matrix[i]\n",
    "    test[count_c] /= len(critic)\n",
    "    count_c += 1\n"
   ]
  },
  {
   "cell_type": "code",
   "execution_count": 54,
   "metadata": {},
   "outputs": [
    {
     "name": "stdout",
     "output_type": "stream",
     "text": [
      "The accuracy of the LogisticRegression Model with our word_corpus is: 0.7195\n"
     ]
    }
   ],
   "source": [
    "#Step 18(b)\n",
    "\n",
    "LG = LogisticRegression(random_state=0, multi_class = 'ovr', solver = 'liblinear',penalty = 'l2')\n",
    "xx = LG.fit(train,y_train)\n",
    "xx.predict(test)\n",
    "print(f'The accuracy of the LogisticRegression Model with our word_corpus is: {xx.score(test,y_test)}')"
   ]
  },
  {
   "cell_type": "markdown",
   "metadata": {},
   "source": [
    "***Συμπεράσματα***\n",
    "\n",
    "Παρατηρούμε ότι το accuracy του μοντέλου μας είναι αρκετά χαμηλό. Αυτό συμβαίνει γιατί το ποσοστό των OOV είναι υψηλό και άρα πολλές λέξεις που υπάρχουν στις προτάσεις της κάθε κριτικής δεν συμβάλλουν στον υπολογισμό της Neural Bag of Words αναπαράστασης. Συμπεραίνουμε λοιπόν, ότι όσο μεγαλύτερο word_corpus έχουμε για την εκπαίδευση του μοντέλου μας και τη δημιουργία των embeddings, τόσο μεγαλύτερο accuracy θα έχουμε."
   ]
  },
  {
   "cell_type": "code",
   "execution_count": 55,
   "metadata": {},
   "outputs": [],
   "source": [
    "#Step 18(c)\n",
    "\n",
    "#Download pretrained GoogleNews vectors\n",
    "#from https://drive.google.com/file/d/0B7XkCwpI5KDYNlNUTTlSS21pQmM/edit"
   ]
  },
  {
   "cell_type": "markdown",
   "metadata": {},
   "source": [
    "(δ) \n",
    "\n",
    "Σε αυτό το βήμα φορτώσαμε τα GoogleNews με τη βιβλιοθήκη gensim και εξάγαμε αναπαραστάσεις (word2vec embeddings) με βάση αυτά. Στη συνέχεια, για τις λέξεις που είχαμε βρει το similarity με άλλες λέξεις στο corpus στο βήμα 9γ, υπολογίσαμε το similarity με βάση το μοντέλο με τα GoogleNews."
   ]
  },
  {
   "cell_type": "code",
   "execution_count": 17,
   "metadata": {},
   "outputs": [],
   "source": [
    "#Step 18(d)\n",
    "\n",
    "from gensim.models import KeyedVectors\n",
    "model = KeyedVectors.load_word2vec_format('./data/GoogleNews-vectors-negative300.bin',binary=True, limit=1000000)"
   ]
  },
  {
   "cell_type": "code",
   "execution_count": 18,
   "metadata": {
    "collapsed": true
   },
   "outputs": [
    {
     "name": "stdout",
     "output_type": "stream",
     "text": [
      "Most similar words to \"bell\":\n"
     ]
    },
    {
     "name": "stderr",
     "output_type": "stream",
     "text": [
      "/home/dorotheakal/anaconda3/lib/python3.7/site-packages/ipykernel_launcher.py:8: DeprecationWarning: Call to deprecated `wv` (Attribute will be removed in 4.0.0, use self instead).\n",
      "  \n"
     ]
    },
    {
     "name": "stdout",
     "output_type": "stream",
     "text": [
      "     \"bells\" -- sim: 0.6517581939697266\n",
      "     \"bell_rang\" -- sim: 0.6194064617156982\n",
      "     \"opening_bell\" -- sim: 0.6053600311279297\n",
      "     \"closing_bell\" -- sim: 0.5642949342727661\n",
      "     \"ringing_bell\" -- sim: 0.5528850555419922\n",
      "     \"bell_rings\" -- sim: 0.5492205619812012\n",
      "     \"bell_chimes\" -- sim: 0.5219579339027405\n",
      "     \"bell_ringing\" -- sim: 0.5187430381774902\n",
      "     \"bell_sounded\" -- sim: 0.5167623162269592\n",
      "     \"knell\" -- sim: 0.4984786808490753\n",
      "Most similar words to \"silver\":\n",
      "     \"gold\" -- sim: 0.8313291668891907\n",
      "     \"precious_metal\" -- sim: 0.6105663776397705\n",
      "     \"bronze\" -- sim: 0.5610242486000061\n",
      "     \"palladium_platinum\" -- sim: 0.5458641052246094\n",
      "     \"copper\" -- sim: 0.5440827012062073\n",
      "     \"##ct_gold\" -- sim: 0.5349764823913574\n",
      "     \"Platinum_palladium\" -- sim: 0.5325815677642822\n",
      "     \"precious_metals\" -- sim: 0.5297213792800903\n",
      "     \"Gold\" -- sim: 0.5211714506149292\n",
      "     \"troy_oz\" -- sim: 0.5147095918655396\n",
      "Most similar words to \"window\":\n",
      "     \"windows\" -- sim: 0.7260904908180237\n",
      "     \"door\" -- sim: 0.6212795972824097\n",
      "     \"window_pane\" -- sim: 0.6208164691925049\n",
      "     \"doorway\" -- sim: 0.6085779666900635\n",
      "     \"windshield\" -- sim: 0.5802630186080933\n",
      "     \"sliding_glass\" -- sim: 0.5717440843582153\n",
      "     \"glass_pane\" -- sim: 0.5539859533309937\n",
      "     \"doors\" -- sim: 0.5523053407669067\n",
      "     \"skylight\" -- sim: 0.5513849258422852\n",
      "     \"rear_driver's_side\" -- sim: 0.5299071073532104\n",
      "Most similar words to \"thank\":\n",
      "     \"sincerely_thank\" -- sim: 0.8009909391403198\n",
      "     \"thanking\" -- sim: 0.7849280834197998\n",
      "     \"Thank\" -- sim: 0.7770504951477051\n",
      "     \"heartfelt_thanks\" -- sim: 0.7628011107444763\n",
      "     \"thanked\" -- sim: 0.7537007331848145\n",
      "     \"sincere_gratitude\" -- sim: 0.7462623119354248\n",
      "     \"sincere_appreciation\" -- sim: 0.7307636141777039\n",
      "     \"congratulate\" -- sim: 0.72502201795578\n",
      "     \"commend\" -- sim: 0.7216262817382812\n",
      "     \"grateful\" -- sim: 0.7013533711433411\n",
      "Most similar words to \"copyright\":\n",
      "     \"copyrights\" -- sim: 0.8414074182510376\n",
      "     \"copyright_infringement\" -- sim: 0.7244922518730164\n",
      "     \"copyrighted\" -- sim: 0.7164671421051025\n",
      "     \"copyright_holders\" -- sim: 0.694472074508667\n",
      "     \"Copyright\" -- sim: 0.6810053586959839\n",
      "     \"copyright_holder\" -- sim: 0.6616141200065613\n",
      "     \"DMCA\" -- sim: 0.6590597629547119\n",
      "     \"Copyrights\" -- sim: 0.6396814584732056\n",
      "     \"intellectual_property\" -- sim: 0.6138449907302856\n",
      "     \"intellectual_property_rights\" -- sim: 0.594609260559082\n",
      "Most similar words to \"bow\":\n",
      "     \"bows\" -- sim: 0.7369688749313354\n",
      "     \"bowing\" -- sim: 0.4897507429122925\n",
      "     \"bowed\" -- sim: 0.45847630500793457\n",
      "     \"bowstring\" -- sim: 0.4376411437988281\n",
      "     \"forelock\" -- sim: 0.4299067556858063\n",
      "     \"velvet_ribbon\" -- sim: 0.42781659960746765\n",
      "     \"sterns\" -- sim: 0.425993412733078\n",
      "     \"satin_ribbon\" -- sim: 0.4177667200565338\n",
      "     \"nock\" -- sim: 0.41291478276252747\n",
      "     \"quiver\" -- sim: 0.4098646640777588\n",
      "Most similar words to \"splendid\":\n",
      "     \"magnificent\" -- sim: 0.8408762812614441\n",
      "     \"marvelous\" -- sim: 0.7875252962112427\n",
      "     \"superb\" -- sim: 0.7729603052139282\n",
      "     \"glorious\" -- sim: 0.7077421545982361\n",
      "     \"brilliant\" -- sim: 0.7077069282531738\n",
      "     \"delightful\" -- sim: 0.687921941280365\n",
      "     \"scintillating\" -- sim: 0.6671627759933472\n",
      "     \"dazzling\" -- sim: 0.6615424156188965\n",
      "     \"superlative\" -- sim: 0.6546359062194824\n",
      "     \"sublime\" -- sim: 0.6518499851226807\n",
      "Most similar words to \"death\":\n",
      "     \"deaths\" -- sim: 0.645300567150116\n",
      "     \"murder\" -- sim: 0.6415224075317383\n",
      "     \"untimely_death\" -- sim: 0.6404935717582703\n",
      "     \"slaying\" -- sim: 0.6001620888710022\n",
      "     \"killing\" -- sim: 0.5760151147842407\n",
      "     \"fatal\" -- sim: 0.5714417099952698\n",
      "     \"murdered\" -- sim: 0.5639129877090454\n",
      "     \"deat\" -- sim: 0.5637020468711853\n",
      "     \"Death\" -- sim: 0.5529274344444275\n",
      "     \"died\" -- sim: 0.544864296913147\n",
      "Most similar words to \"dragging\":\n",
      "     \"dragged\" -- sim: 0.7259875535964966\n",
      "     \"Dragging\" -- sim: 0.6128302216529846\n",
      "     \"drag\" -- sim: 0.6019066572189331\n",
      "     \"drags\" -- sim: 0.5446232557296753\n",
      "     \"pushing\" -- sim: 0.49698585271835327\n",
      "     \"crawling\" -- sim: 0.48572254180908203\n",
      "     \"pulling\" -- sim: 0.4721095561981201\n",
      "     \"stomping\" -- sim: 0.4652405083179474\n",
      "     \"slipping\" -- sim: 0.45722097158432007\n",
      "     \"stumbling\" -- sim: 0.4531708359718323\n",
      "Most similar words to \"seven\":\n",
      "     \"eight\" -- sim: 0.9619014263153076\n",
      "     \"five\" -- sim: 0.9528537392616272\n",
      "     \"six\" -- sim: 0.9523511528968811\n",
      "     \"four\" -- sim: 0.9456813335418701\n",
      "     \"nine\" -- sim: 0.9356343746185303\n",
      "     \"three\" -- sim: 0.9122412800788879\n",
      "     \"two\" -- sim: 0.805267870426178\n",
      "     \"eleven\" -- sim: 0.7146920561790466\n",
      "     \"##\" -- sim: 0.6923109292984009\n",
      "     \"ten\" -- sim: 0.6571058034896851\n"
     ]
    }
   ],
   "source": [
    "#Step 18(d)\n",
    "\n",
    "#Similarity\n",
    "#pick 10 random words from the dictionary\n",
    "for word in rand_words:\n",
    "    print(f'Most similar words to \"{word}\":')\n",
    "    for word,sim in model.wv.most_similar(word):\n",
    "        print(f'     \"{word}\" -- sim: {sim}')"
   ]
  },
  {
   "cell_type": "markdown",
   "metadata": {},
   "source": [
    "***Συμπεράσματα***\n",
    "\n",
    "Παρατηρούμε ότι το similarity για τις ίδιες λέξεις του ερωτήματος 9γ έχει πλέον αυξηθεί. Οι λέξεις που βρίσκει το μοντέλο με τα GoogleNews είναι πιο σχετικές με την υπο εξέταση λέξη, καθώς και το ποσοστό ομοιότητας έχει σχεδόν διπλασιαστεί. Αυτό είναι ένα αποτέλεσμα που περιμέναμε, από τη στιγμή που έχουμε ένα word_corpus κατά τάξεις μεγαλύτερο από αυτό που είχαμε δημιουργήσει στα πρώτα ερωτήματα. "
   ]
  },
  {
   "cell_type": "markdown",
   "metadata": {},
   "source": [
    "(ε)\n",
    "\n",
    "Σε αυτό το βήμα δημιουργήσαμε αναπαραστάσεις Neural Bag of Words για κάθε κριτική με τη χρήση των embeddings για το μοντέλο με τα Google News. Χρησιμοποιώντας αυτές τις αναπαραστάσεις εκπαιδεύσαμε ένα Logistic Regression Model για να αναγνωρίζει αν μία κριτική είναι θετική ή αρνητική.\n",
    "\n",
    "Συγκρίνοντας το αποτέλεσμα του Logistic Regression Model που χρησιμοποιεί αναπαραστάσεις με τη χρησή των Google News, με το μοντέλο που χρησιμοποιεί αναπαραστάσεις με τη χρήση του word_corpus που δημιουργήσαμε, συμπεραίνουμε ότι το πρώτο έχει μεγαλύτερο accuracy. Αυτό συμβαίνει γιατί τα Google News, λόγω του μεγαλύτερου μεγέθους τους, δίνουν embeddings για περισσότερες λέξεις. Αρα η Neural Bag of Words αναπαράσταση για κάθε κριτική, δίνει καλύτερη πληροφορία για το αν είναι θετική ή αρνητικη και έτσι αυξάνεται η πιθανότητα να γίνει η ταξινόμηση της στη σωστή κατηγορία."
   ]
  },
  {
   "cell_type": "code",
   "execution_count": 66,
   "metadata": {},
   "outputs": [],
   "source": [
    "#Step 18(e)\n",
    "#Neural Bag of Words for movie critics\n",
    "    \n",
    "train_google = np.zeros((len(X_train),model.vector_size))\n",
    "count_c = 0    \n",
    "                      \n",
    "for critic in X_train:\n",
    "    critic = nltk.word_tokenize(critic)\n",
    "    for word in critic:\n",
    "        if word in model:\n",
    "            train_google[count_c] += model[word]\n",
    "    train_google[count_c] /= len(critic)\n",
    "    count_c += 1\n",
    "    \n",
    "test_google = np.zeros((len(X_test),model.vector_size))   \n",
    "count_c = 0\n",
    "      \n",
    "for critic in X_test:\n",
    "    critic = nltk.word_tokenize(critic)\n",
    "    for word in critic:\n",
    "        if word in model:\n",
    "            test_google[count_c] += model[word]\n",
    "    test_google[count_c] /= len(critic)\n",
    "    count_c += 1\n"
   ]
  },
  {
   "cell_type": "code",
   "execution_count": 67,
   "metadata": {},
   "outputs": [
    {
     "name": "stdout",
     "output_type": "stream",
     "text": [
      "The accuracy of the LogisticRegression Model with GoogleNews is: 0.8222\n"
     ]
    }
   ],
   "source": [
    "#Step 18(e)\n",
    "\n",
    "LG = LogisticRegression(random_state=0, multi_class = 'ovr', solver = 'liblinear',penalty = 'l2')\n",
    "xx = LG.fit(train_google,y_train)\n",
    "xx.predict(test_google)\n",
    "print(f'The accuracy of the LogisticRegression Model with GoogleNews is: {xx.score(test_google,y_test)}')"
   ]
  },
  {
   "cell_type": "markdown",
   "metadata": {},
   "source": [
    "***Βήμα 18(στ)***\n",
    "\n",
    "Σε αυτό το βήμα δημιουργείσαμε αναπαραστάσεις προτάσεων με χρήση σταθμισμένου μέσου των w2v αναπαραστάσεων των λέξεων. Ως βάρη χρησιμοποιήσαμε τα TF-IDF βάρη των λέξεων. "
   ]
  },
  {
   "cell_type": "code",
   "execution_count": 68,
   "metadata": {},
   "outputs": [],
   "source": [
    "#Step 18(f)\n",
    "\n",
    "tfidf = TfidfVectorizer(analyzer = nltk.word_tokenize)\n",
    "X_train_tfidf = tfidf.fit_transform(X_train)\n",
    "voc_train = tfidf.vocabulary_\n",
    "X_test_tfidf = tfidf.fit_transform(X_test)\n",
    "voc_test = tfidf.vocabulary_"
   ]
  },
  {
   "cell_type": "code",
   "execution_count": 81,
   "metadata": {},
   "outputs": [],
   "source": [
    "#Step 18(f)\n",
    "#Neural Bag of Words for movie critics\n",
    "    \n",
    "train_tfidf = np.zeros((len(X_train),model.vector_size))\n",
    "count_c = 0    \n",
    "                      \n",
    "for critic in X_train:\n",
    "    critic = nltk.word_tokenize(critic)\n",
    "    for word in critic:\n",
    "        if word in model and word in voc_train:\n",
    "            train_tfidf[count_c] += model[word]*X_train_tfidf[count_c,voc_train[word]]\n",
    "    count_c += 1\n",
    "                 \n",
    "\n",
    "test_tfidf = np.zeros((len(X_test),model.vector_size))   \n",
    "count_c = 0\n",
    "count = 0\n",
    "                 \n",
    "for critic in X_test:\n",
    "    critic = nltk.word_tokenize(critic)\n",
    "    for word in critic:\n",
    "        if word in model and word in voc_test:\n",
    "            test_tfidf[count_c] += model[word]*X_test_tfidf[count_c,voc_test[word]]\n",
    "    count_c += 1\n"
   ]
  },
  {
   "cell_type": "code",
   "execution_count": 82,
   "metadata": {},
   "outputs": [
    {
     "name": "stdout",
     "output_type": "stream",
     "text": [
      "The accuracy of the LogisticRegression Model with GoogleNews tf-idf embeddings is: 0.8048\n"
     ]
    }
   ],
   "source": [
    "#Step 18(g)\n",
    "\n",
    "LG = LogisticRegression(random_state=0, multi_class = 'ovr', solver = 'liblinear',penalty = 'l2')\n",
    "xx = LG.fit(train_tfidf,y_train)\n",
    "print(f'The accuracy of the LogisticRegression Model with GoogleNews tf-idf embeddings is: {xx.score(test_tfidf,y_test)}')"
   ]
  },
  {
   "cell_type": "markdown",
   "metadata": {},
   "source": [
    "***Συμπεράσματα***\n",
    "\n",
    "Τρέχοντας το LogisticRegression Model με τα GoogleNews δεδομένα για τα tf-idf embeddings, παρατηρούμε ότι το ποσοστό μειώνεται κατά 2% σε σχέση με τη χρήση embeddings χωρίς τα tf-idf βάρη. Αυτό συμβαίνει γιατί τα tf-idf μειώνουν την επίδραση των λέξεων που εμφανίζονται πολλές φορές στο κείμενο, καθώς και αυτών που εμφανίζονται πολύ λίγες φορές. Άρα, ενδέχεται στις λέξεις που δεν λήφθηκαν υπόψιν, να ήταν και κάποιες που έδιναν κάποια επιπλέον πληροφορία για το αν η κριτική ήταν θετική ή αρνητική."
   ]
  },
  {
   "cell_type": "markdown",
   "metadata": {},
   "source": [
    "### Βήμα 19\n",
    "\n",
    "Σε αυτό το βήμα επιλέξαμε να συγκρίνουμε την επίδοση των KNN και SVM classifiers. \n",
    "\n",
    "**KNN classifier** :Ο classifier υποθέτει ότι οι αναπαραστάσεις των λέξεων με παρόμοια σημασία θα είναι και κοντά στον χώρο. Θεωρούμε λοιπόν, ότι για να κάνουμε classify, θα βρούμε τις 3 κοντινότερες αναπαραστάσεις στην αναπαράσταση της κριτικής και με βάση αυτές θα αποφανθούμε αν είναι θετική ή αρνητική.\n",
    "\n",
    "**SVM classifiers** :Ο classifier αναπαριστά τα train-data σαν σημεία στον χώρο έτσι ώστε τα σημεία από κάθε κατηγορία να απέχουν όσο περισσότερο γίνεται, με αλλαγή του χώρου αναπαράστασης δεδομένων (πυρήνας). Τα test-data στη συνέχεια, τοποθετούνται πάνω στον ίδιο χώρο και ανάλογα σε ποια πλευρά του decision boundary πέφτουν γίνεται το classification τους σε κάποια κατηγορία."
   ]
  },
  {
   "cell_type": "code",
   "execution_count": 83,
   "metadata": {},
   "outputs": [
    {
     "name": "stdout",
     "output_type": "stream",
     "text": [
      "KNN accuracy on train_google embeddings is: 0.7085\n",
      "KNN accuracy on train_tfidf embeddings is: 0.6509\n"
     ]
    }
   ],
   "source": [
    "#Step 19(a)\n",
    "\n",
    "#ΚΝΝ\n",
    "from sklearn.neighbors import KNeighborsClassifier\n",
    "neigh = KNeighborsClassifier(n_neighbors=3)\n",
    "\n",
    "#Google embeddings\n",
    "neigh.fit(train_google, y_train)\n",
    "print(f'KNN accuracy on train_google embeddings is: {neigh.score(test_google,y_test)}')\n",
    "\n",
    "#TF-IDF embeddings\n",
    "neigh.fit(train_tfidf, y_train)\n",
    "print(f'KNN accuracy on train_tfidf embeddings is: {neigh.score(test_tfidf,y_test)}')"
   ]
  },
  {
   "cell_type": "code",
   "execution_count": 84,
   "metadata": {},
   "outputs": [
    {
     "name": "stdout",
     "output_type": "stream",
     "text": [
      "SVM accuracy on train_google embeddings is: 0.6595\n",
      "SVM accuracy on train_tfidf embeddings is: 0.8005\n"
     ]
    }
   ],
   "source": [
    "#Step 19(a)\n",
    "\n",
    "#SVM\n",
    "from sklearn import svm\n",
    "clf = svm.SVC(gamma='auto')\n",
    "\n",
    "#Google embeddings\n",
    "clf.fit(train_google, y_train)\n",
    "print(f'SVM accuracy on train_google embeddings is: {clf.score(test_google,y_test)}')\n",
    "\n",
    "#TF-IDF embeddings\n",
    "clf.fit(train_tfidf, y_train)\n",
    "print(f'SVM accuracy on train_tfidf embeddings is: {clf.score(test_tfidf,y_test)}')"
   ]
  },
  {
   "cell_type": "markdown",
   "metadata": {},
   "source": [
    "***Συμπεράσματα***\n",
    "\n",
    "Παρατηρούμε λοιπόν ότι για τον KNN Classifier έχουμε καλύτερο accuracy για τα μη σταθμισμένα embeddings ενώ για τον SVM έχουμε καλύτερο accuracy για τα σταθμισμένα με TF-IDF embeddings."
   ]
  },
  {
   "cell_type": "markdown",
   "metadata": {},
   "source": [
    "(β)\n",
    "\n",
    "Το FastText είναι μια επέκταση του Word2Vec που προτάθηκε από το Facebook το 2016. Αντί να δίνονται ως είσοδος στο νευρωνικό ολόκληρες οι λέξεις, τις \"σπάνε\" σε κάποια n-grams (υπο-λέξεις). Για παράδειγμα η λέξη apple σπάει σε 3-gram ως εξής: app, ppl, και ple. Το embedding αυτής της λέξης θα είναι το άθροισμα των 3-grams (ή n-grams γενικότερα) για αυτή. Μόλις εκπαιδεύσουμε το νευρωνικό θα έχουμε word embeddings για κάθε ένα από τα n-grams στο δεδομένο dataset. Οι σπάνιες λέξεις θα μπορούν πλέον να αναπαρασταθούν καλύτερα αφού είναι αρκετά πιθανό κάποιο από τα n-grams τους να εμφανιστεί σε κάποια άλλη λέξη. \n",
    "\n",
    "Για αυτό το βήμα θα χρησιμοποιήσουμε ήδη εκπαιδευμένα embeddings τα οποία κατεβάσαμε από την σελίδα https://fasttext.cc/docs/en/english-vectors.html .\n",
    "\n",
    "Δυστυχώς δεν καταφέραμε να φορτώσουμε τα embeddings λόγω προβλημάτων μνήμης , και έτσι αφήνουμε χωρις output το παρακάτω κελι. Μια εναλλακτή προσέγγιση θα ήταν να εκπαιδεύσουμε τα δικά μας fast text πάνω στο book corpus."
   ]
  },
  {
   "cell_type": "code",
   "execution_count": null,
   "metadata": {},
   "outputs": [],
   "source": [
    "#Step 19(b)\n",
    "\n",
    "from gensim.models.fasttext import  FastTextKeyedVectors\n",
    "\n",
    "import io\n",
    "\n",
    "def load_vectors(fname):\n",
    "    fin = io.open(fname, 'r', encoding='utf-8', newline='\\n', errors='ignore' , limit = NUM_W2V_TO_LOAD )\n",
    "    n, d = map(int, fin.readline().split())\n",
    "    data = {}\n",
    "    for line in fin:\n",
    "        tokens = line.rstrip().split(' ')\n",
    "        data[tokens[0]] = map(float, tokens[1:])\n",
    "    return data\n",
    "\n",
    "model_fast = load_vectors(\"./data/wiki-news-300d-1M.vec\")\n",
    "\n"
   ]
  }
 ],
 "metadata": {
  "colab": {
   "collapsed_sections": [],
   "name": "Speech.ipynb",
   "provenance": []
  },
  "kernelspec": {
   "display_name": "Python 3",
   "language": "python",
   "name": "python3"
  },
  "language_info": {
   "codemirror_mode": {
    "name": "ipython",
    "version": 3
   },
   "file_extension": ".py",
   "mimetype": "text/x-python",
   "name": "python",
   "nbconvert_exporter": "python",
   "pygments_lexer": "ipython3",
   "version": "3.7.4"
  }
 },
 "nbformat": 4,
 "nbformat_minor": 1
}
