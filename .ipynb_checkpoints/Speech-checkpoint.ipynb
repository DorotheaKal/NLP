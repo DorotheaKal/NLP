{
 "cells": [
  {
   "cell_type": "code",
   "execution_count": 0,
   "metadata": {
    "colab": {},
    "colab_type": "code",
    "id": "3hLwwUipOR6_"
   },
   "outputs": [],
   "source": [
    "!NUM_CPUS=`cat /proc/cpuinfo | grep proc | wc -l`\n",
    "!OPENFST_VERSION=1.6.1\n",
    "# max number of jobs is ncpus - 1\n",
    "!NUM_JOBS=$(($NUM_CPUS - 1))\n",
    "\n",
    "!sudo apt-get install -y wget make gcc g++ checkinstall python-dev libz-dev\n",
    "\n",
    "!wget http://www.openfst.org/twiki/pub/FST/FstDownload/openfst-1.6.1.tar.gz"
   ]
  },
  {
   "cell_type": "code",
   "execution_count": 0,
   "metadata": {
    "colab": {},
    "colab_type": "code",
    "id": "f-VyEBEaSXyg"
   },
   "outputs": [],
   "source": [
    "!tar -xvf openfst-1.6.1.tar.gz.1 openfst-1.6.1\n",
    "!cd openfst-1.6.1\n"
   ]
  },
  {
   "cell_type": "code",
   "execution_count": 0,
   "metadata": {
    "colab": {},
    "colab_type": "code",
    "id": "pJIu1XhlSZXQ"
   },
   "outputs": [],
   "source": [
    "!./openfst-1.6.1/configure --enable-static=yes --enable-shared=no --with-pic=yes --enable-far\n",
    "!make -j`cat /proc/cpuinfo | grep proc | wc -l` - 1\n",
    "!sudo make install"
   ]
  },
  {
   "cell_type": "code",
   "execution_count": 0,
   "metadata": {
    "colab": {},
    "colab_type": "code",
    "id": "Z3SR1-qeU2Gg"
   },
   "outputs": [],
   "source": [
    "!python ./src/a.py   | fstcompile --isymbols=chars.syms --osymbols=chars.syms - rosebud.bin.fst"
   ]
  },
  {
   "cell_type": "code",
   "execution_count": 1,
   "metadata": {
    "colab": {},
    "colab_type": "code",
    "id": "8OqT0WsSYSLb"
   },
   "outputs": [],
   "source": [
    "# Step 2\n",
    "def identity_preprocess(str):\n",
    "  return str\n",
    "\n",
    "def readfile(path,preprocess=identity_preprocess):\n",
    "  processed_txt=[]\n",
    "  f = open(path, \"r\")\n",
    "  for line in f:\n",
    "    processed_txt= processed_txt + preprocess(line)\n",
    "  return processed_txt \n",
    "\n",
    "def tokenize(s):\n",
    "    s = s.strip().lower()\n",
    "    s = ''.join(c for c in s if (c.isalpha() or c == ' '))\n",
    "    s = s.replace('\\n',' ')\n",
    "    s = s.split()\n",
    "    return s\n",
    "  \n",
    "# TODO: experiment with ntk tokenizers \n",
    "\n",
    "\n"
   ]
  },
  {
   "cell_type": "code",
   "execution_count": 4,
   "metadata": {
    "colab": {
     "base_uri": "https://localhost:8080/",
     "height": 72
    },
    "colab_type": "code",
    "executionInfo": {
     "elapsed": 1819,
     "status": "ok",
     "timestamp": 1574168112504,
     "user": {
      "displayName": "Dorothea Kalliora",
      "photoUrl": "",
      "userId": "17412342597228224634"
     },
     "user_tz": -120
    },
    "id": "YXntX-DgfvSF",
    "outputId": "19b454d9-ca2c-4be2-cb8c-bfe654403163"
   },
   "outputs": [
    {
     "name": "stdout",
     "output_type": "stream",
     "text": [
      "63094\n",
      "7472\n",
      "28\n"
     ]
    }
   ],
   "source": [
    "# Step 3\n",
    "text = readfile('./data/36-0.txt',tokenize)\n",
    "print(len(text))\n",
    "word_corpus = list(set(text))\n",
    "print(len(word_corpus))\n",
    "# Convert list of words to list of chars, get unique chars with set\n",
    "alphabet = list(set([c for word in word_corpus for c in word]))\n",
    "print(len(alphabet))\n",
    "\n"
   ]
  },
  {
   "cell_type": "code",
   "execution_count": 21,
   "metadata": {},
   "outputs": [],
   "source": [
    "# Step 4\n",
    "def create_syms(alphabet):\n",
    "    f = open('./chars.syms\",\"w+')\n",
    "    alphabet = ['<epsilon>'] + alphabet\n",
    "    for i in range(len(alphabet)):\n",
    "        f.write(f'{alphabet[i]}     {i}\\n')\n",
    "create_syms(alphabet)\n",
    "    "
   ]
  },
  {
   "cell_type": "code",
   "execution_count": 19,
   "metadata": {},
   "outputs": [],
   "source": [
    "# We must create FST using shell\n",
    "\n",
    "# arc format: src dest ilabel olabel [weight]\n",
    "# final state format: state [weight]\n",
    "# lines may occur in any order except initial state must be first line\n",
    "# unspecified weights default to 0.0 (for the library-default Weight type) \n"
   ]
  },
  {
   "cell_type": "code",
   "execution_count": 20,
   "metadata": {},
   "outputs": [
    {
     "ename": "ModuleNotFoundError",
     "evalue": "No module named 'lib'",
     "output_type": "error",
     "traceback": [
      "\u001b[0;31m---------------------------------------------------------------------------\u001b[0m",
      "\u001b[0;31mModuleNotFoundError\u001b[0m                       Traceback (most recent call last)",
      "\u001b[0;32m<ipython-input-20-89215dc9ad03>\u001b[0m in \u001b[0;36m<module>\u001b[0;34m\u001b[0m\n\u001b[0;32m----> 1\u001b[0;31m \u001b[0;32mfrom\u001b[0m \u001b[0mlib\u001b[0m \u001b[0;32mimport\u001b[0m \u001b[0;34m*\u001b[0m\u001b[0;34m\u001b[0m\u001b[0;34m\u001b[0m\u001b[0m\n\u001b[0m\u001b[1;32m      2\u001b[0m \u001b[0;34m\u001b[0m\u001b[0m\n\u001b[1;32m      3\u001b[0m \u001b[0macceptor\u001b[0m \u001b[0;34m=\u001b[0m \u001b[0;34m[\u001b[0m\u001b[0;34m]\u001b[0m\u001b[0;34m\u001b[0m\u001b[0;34m\u001b[0m\u001b[0m\n\u001b[1;32m      4\u001b[0m \u001b[0ms\u001b[0m \u001b[0;34m=\u001b[0m \u001b[0;36m1\u001b[0m\u001b[0;34m\u001b[0m\u001b[0;34m\u001b[0m\u001b[0m\n\u001b[1;32m      5\u001b[0m \u001b[0;34m\u001b[0m\u001b[0m\n",
      "\u001b[0;31mModuleNotFoundError\u001b[0m: No module named 'lib'"
     ]
    }
   ],
   "source": [
    "def format_arc(file,src,dest,src_sym,dest_sym,w):\n",
    "    print(f'{scr} {dest} {src_sym} {dest_sym} {w}'\\n)\n",
    "\n",
    "acceptor = []\n",
    "s = 1\n",
    "\n",
    "letters = list('rosebud')\n",
    "\n",
    "for i in range(0, len(letters)):\n",
    "    print(\n",
    "        format_arc(\n",
    "            src=s, dst=s+1, src_sym=letters[i], dst_sym=letters[i], w=0))\n",
    "    s += 1\n",
    "    if i == len(letters) - 1:\n",
    "        print(\n",
    "            format_arc(\n",
    "                src=s, dst=0, src_sym=EPS, dst_sym=EPS, w=0))"
   ]
  },
  {
   "cell_type": "code",
   "execution_count": 17,
   "metadata": {},
   "outputs": [],
   "source": [
    "# Compile FST defined in text.fst with symbols in chars.syms, binary output = binary.fst\n",
    "!fstcompile --isymbols=chars.syms --osymbols=chars.syms text.fst binary.fst"
   ]
  }
 ],
 "metadata": {
  "colab": {
   "collapsed_sections": [],
   "name": "Speech.ipynb",
   "provenance": []
  },
  "kernelspec": {
   "display_name": "Python 3",
   "language": "python",
   "name": "python3"
  },
  "language_info": {
   "codemirror_mode": {
    "name": "ipython",
    "version": 3
   },
   "file_extension": ".py",
   "mimetype": "text/x-python",
   "name": "python",
   "nbconvert_exporter": "python",
   "pygments_lexer": "ipython3",
   "version": "3.7.4"
  }
 },
 "nbformat": 4,
 "nbformat_minor": 1
}
