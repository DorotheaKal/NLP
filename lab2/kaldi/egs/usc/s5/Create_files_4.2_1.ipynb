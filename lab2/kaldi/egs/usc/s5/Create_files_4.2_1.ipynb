{
 "cells": [
  {
   "cell_type": "code",
   "execution_count": 6,
   "metadata": {},
   "outputs": [],
   "source": [
    "#!/usr/bin/python3\n",
    "f = open('silence_phones.txt',\"w+\")\n",
    "f.write(\"sil\" + '\\n')\n",
    "f.close()\n",
    "\n",
    "f = open('optional_silence.txt',\"w+\")\n",
    "f.write(\"sil\"+'\\n')\n",
    "f.close()\n",
    "\n",
    "# rip data directory\n",
    "data_dir = '~/Desktop'\n",
    "\n",
    "nons = open('nonsilence_phones.txt',\"w+\")\n",
    "lex_data = open('./../../../slp_lab2_data/lexicon.txt',\"r+\")\n",
    "lex = open(\"lexicon.txt\",\"w+\")\n",
    "f = open('extra_questions.txt',\"w+\")\n",
    "f.close()\n",
    "phones = set()\n",
    "for line in lex_data:\n",
    "\n",
    "    line = line.split()[1:]\n",
    "    \n",
    "    for phonem in line:\n",
    "        phones.add(phonem)\n",
    "\n",
    "phones = sorted(phones)\n",
    "for phonem in phones:\n",
    "    if phonem != 'sil':\n",
    "        lex.write(phonem + ' ' + phonem + '\\n')\n",
    "        nons.write(phonem + '\\n')\n",
    "\n",
    "\n",
    "for name in ['test','dev','train']:\n",
    "    set_txt = open('../../'+name+'/text',\"r\")   \n",
    "    lm_txt = open('lm_'+name+'.text',\"w+\")\n",
    "    for line in set_txt:\n",
    "        line = line.split(\"sil\")\n",
    "        line.insert(1,'<s> sil')\n",
    "        line.pop()\n",
    "        line.append('sil </s>\\n')\n",
    "        for l in line:\n",
    "            lm_txt.write(l)\n",
    "    set_txt.close()\n",
    "    lm_txt.close()        "
   ]
  },
  {
   "cell_type": "code",
   "execution_count": null,
   "metadata": {},
   "outputs": [],
   "source": []
  }
 ],
 "metadata": {
  "kernelspec": {
   "display_name": "Python 2",
   "language": "python",
   "name": "python2"
  },
  "language_info": {
   "codemirror_mode": {
    "name": "ipython",
    "version": 2
   },
   "file_extension": ".py",
   "mimetype": "text/x-python",
   "name": "python",
   "nbconvert_exporter": "python",
   "pygments_lexer": "ipython2",
   "version": "2.7.15+"
  }
 },
 "nbformat": 4,
 "nbformat_minor": 2
}
