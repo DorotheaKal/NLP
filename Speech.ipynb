{
 "cells": [
  {
   "cell_type": "code",
   "execution_count": 60,
   "metadata": {
    "colab": {},
    "colab_type": "code",
    "id": "8OqT0WsSYSLb"
   },
   "outputs": [],
   "source": [
    "# Step 2\n",
    "\n",
    "def identity_preprocess(str):\n",
    "  return str\n",
    "\n",
    "def readfile(path,preprocess=identity_preprocess):\n",
    "  processed_txt=[]\n",
    "  f = open(path, \"r\")\n",
    "  for line in f:\n",
    "    processed_txt= processed_txt + preprocess(line)\n",
    "  return processed_txt \n",
    "\n",
    "def tokenize(s):\n",
    "    s = s.strip().lower()\n",
    "    s = ''.join(c for c in s if (c.isalpha() or c == ' '))\n",
    "    s = s.replace('\\n',' ')\n",
    "    s = s.split()\n",
    "    return s\n",
    "  \n",
    "# TODO: experiment with ntk tokenizers \n",
    "\n",
    "\n"
   ]
  },
  {
   "cell_type": "code",
   "execution_count": 61,
   "metadata": {
    "colab": {
     "base_uri": "https://localhost:8080/",
     "height": 72
    },
    "colab_type": "code",
    "executionInfo": {
     "elapsed": 1819,
     "status": "ok",
     "timestamp": 1574168112504,
     "user": {
      "displayName": "Dorothea Kalliora",
      "photoUrl": "",
      "userId": "17412342597228224634"
     },
     "user_tz": -120
    },
    "id": "YXntX-DgfvSF",
    "outputId": "19b454d9-ca2c-4be2-cb8c-bfe654403163"
   },
   "outputs": [
    {
     "name": "stdout",
     "output_type": "stream",
     "text": [
      "63094\n",
      "7472\n",
      "28\n"
     ]
    }
   ],
   "source": [
    "# Step 3\n",
    "\n",
    "text = readfile('./data/36-0.txt',tokenize)\n",
    "print(len(text))\n",
    "word_corpus = list(set(text))\n",
    "print(len(word_corpus))\n",
    "# Convert list of words to list of chars, get unique chars with set\n",
    "alphabet = list(set([c for word in word_corpus for c in word]))\n",
    "print(len(alphabet))\n",
    "\n"
   ]
  },
  {
   "cell_type": "code",
   "execution_count": 62,
   "metadata": {},
   "outputs": [],
   "source": [
    "# Step 4\n",
    "\n",
    "def create_syms(alphabet):\n",
    "    f = open(\"./chars.syms\",\"w+\")\n",
    "    f.write(f'<epsilon>     0\\n')  #for <epsilon> index 0\n",
    "    for i in range(len(alphabet)):\n",
    "        f.write(f'{alphabet[i]}     {i+50}\\n')  #for other characters index i+50\n",
    "        \n",
    "create_syms(alphabet)\n",
    "    "
   ]
  },
  {
   "cell_type": "code",
   "execution_count": 78,
   "metadata": {},
   "outputs": [
    {
     "name": "stdout",
     "output_type": "stream",
     "text": [
      "1 1 a a 0 \n",
      "\n",
      "1 0 a <epsilon> 1 \n",
      "\n",
      "0 1 <epsilon> a 1 \n",
      "\n",
      "1 2 a b 1 \n",
      "\n",
      "1 3 a c 1 \n",
      "\n",
      "1 4 a d 1 \n",
      "\n",
      "2 2 b b 0 \n",
      "\n",
      "2 0 b <epsilon> 1 \n",
      "\n",
      "0 2 <epsilon> b 1 \n",
      "\n",
      "2 1 b a 1 \n",
      "\n",
      "2 3 b c 1 \n",
      "\n",
      "2 4 b d 1 \n",
      "\n",
      "3 3 c c 0 \n",
      "\n",
      "3 0 c <epsilon> 1 \n",
      "\n",
      "0 3 <epsilon> c 1 \n",
      "\n",
      "3 1 c a 1 \n",
      "\n",
      "3 2 c b 1 \n",
      "\n",
      "3 4 c d 1 \n",
      "\n",
      "4 4 d d 0 \n",
      "\n",
      "4 0 d <epsilon> 1 \n",
      "\n",
      "0 4 <epsilon> d 1 \n",
      "\n",
      "4 1 d a 1 \n",
      "\n",
      "4 2 d b 1 \n",
      "\n",
      "4 3 d c 1 \n",
      "\n"
     ]
    }
   ],
   "source": [
    "#Step 5\n",
    "# We must create FST using shell\n",
    "\n",
    "# arc format: src dest ilabel olabel [weight]\n",
    "# final state format: state [weight]\n",
    "# lines may occur in any order except initial state must be first line\n",
    "# unspecified weights default to 0.0 (for the library-default Weight type) \n",
    "\n",
    "#write the below in a .py file and run it ??? \n",
    "#S.py\n",
    "\n",
    "def format_arc(src,dst,src_sym,dst_sym,w):\n",
    "    print(\"{} {} {} {} {} \\n\".format(src,dst,src_sym,dst_sym,w))\n",
    "\n",
    "acceptor = []\n",
    "s = 1\n",
    "\n",
    "letters =  alphabet\n",
    "\n",
    "for i in range(0, len(letters)):\n",
    "    format_arc(src=0, dst=s, src_sym=\"<epsilon>\", dst_sym=letters[i], w=1)\n",
    "    format_arc(src=s, dst=s, src_sym=letters[i], dst_sym=letters[i], w=0)\n",
    "    format_arc(src=s, dst=0, src_sym=letters[i], dst_sym=\"<epsilon>\", w=1)\n",
    "    k = 1\n",
    "    for j in range(0, len(letters)):\n",
    "        if(j!=i):\n",
    "            format_arc(src=s, dst=k, src_sym=letters[i], dst_sym=letters[j], w=1)\n",
    "        k += 1\n",
    "    s += 1           \n",
    "    \n",
    "\n",
    "#TODO: change the edit distance"
   ]
  },
  {
   "cell_type": "code",
   "execution_count": null,
   "metadata": {},
   "outputs": [],
   "source": [
    "!python S.py   |      fstcompile --isymbols=chars.syms --osymbols=chars.syms - rosebud.bin.fst\n",
    "!fstdraw --isymbols=chars.syms --osymbols=chars.syms -portrait rosebud.bin.fst | dot -Tjpg >Mars.jpg"
   ]
  },
  {
   "cell_type": "code",
   "execution_count": null,
   "metadata": {},
   "outputs": [],
   "source": [
    "#Step 6\n",
    "\n",
    "#write the below in a .py file and run it ??? \n",
    "#S1.py\n",
    "\n",
    "def format_arc(src,dst,src_sym,dst_sym,w):\n",
    "    print(\"{} {} {} {} {} \\n\".format(src,dst,src_sym,dst_sym,w))\n",
    "\n",
    "#word_corpus = ['asd','uhsoa'] for debugging\n",
    "\n",
    "s = 1\n",
    "a = []\n",
    "\n",
    "for word in word_corpus:\n",
    "    format_arc(src=0, dst=s, src_sym=\"<epsilon>\", dst_sym=word[0], w=0)\n",
    "    for i in range(len(word) -1):\n",
    "        format_arc(src=s, dst=s+1, src_sym=word[i], dst_sym=word[i+1], w=0)\n",
    "        s += 1\n",
    "    format_arc(src=s, dst=s+1, src_sym=word[len(word) -1 ], dst_sym=\"<epsilon>\", w=0)\n",
    "    a.append(s+1)\n",
    "    s += 2\n",
    "\n",
    "for l in a:\n",
    "    print(\"{}\\n\".format(l))\n",
    "    "
   ]
  },
  {
   "cell_type": "code",
   "execution_count": null,
   "metadata": {},
   "outputs": [],
   "source": [
    "!python S1.py   |      fstcompile --isymbols=chars.syms --osymbols=chars.syms - rosebud.bin1.fst\n",
    "!fstdraw --isymbols=chars.syms --osymbols=chars.syms -portrait rosebud.bin1.fst | dot -Tjpg >dfa_start.jpg"
   ]
  },
  {
   "cell_type": "code",
   "execution_count": 81,
   "metadata": {},
   "outputs": [],
   "source": [
    "#Step 6b\n",
    "\n",
    "!fstrmepsilon rosebud.bin1.fst eps.fst\n",
    "!fstdraw --isymbols=chars.syms --osymbols=chars.syms -portrait eps.fst | dot -Tjpg >dfa_rmepsilon.jpg\n",
    "\n",
    "!fstdeterminize eps.fst det.fst\n",
    "!fstdraw --isymbols=chars.syms --osymbols=chars.syms -portrait det.fst | dot -Tjpg >dfa_determinize.jpg\n",
    "\n",
    "!fstminimize det.fst mini.fst\n",
    "!fstdraw --isymbols=chars.syms --osymbols=chars.syms -portrait mini.fst | dot -Tjpg >dfa_minimize.jpg\n"
   ]
  },
  {
   "cell_type": "code",
   "execution_count": null,
   "metadata": {},
   "outputs": [],
   "source": []
  }
 ],
 "metadata": {
  "colab": {
   "collapsed_sections": [],
   "name": "Speech.ipynb",
   "provenance": []
  },
  "kernelspec": {
   "display_name": "Python 3",
   "language": "python",
   "name": "python3"
  },
  "language_info": {
   "codemirror_mode": {
    "name": "ipython",
    "version": 3
   },
   "file_extension": ".py",
   "mimetype": "text/x-python",
   "name": "python",
   "nbconvert_exporter": "python",
   "pygments_lexer": "ipython3",
   "version": "3.7.4"
  }
 },
 "nbformat": 4,
 "nbformat_minor": 1
}
